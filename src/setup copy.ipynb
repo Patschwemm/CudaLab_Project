{
 "cells": [
  {
   "cell_type": "code",
   "execution_count": 1,
   "metadata": {
    "tags": []
   },
   "outputs": [],
   "source": [
    "import sys\n",
    "import torch\n",
    "import torch.nn as nn\n",
    "import torchvision\n",
    "import torchvision.transforms as T\n",
    "# need ms coco api to get dataset\n",
    "from pycocotools import mask as mask\n",
    "import numpy as np\n",
    "import matplotlib.pyplot as plt\n",
    "sys.path.insert(0, \"../utils\")\n",
    "import utils\n",
    "import train_eval"
   ]
  },
  {
   "cell_type": "code",
   "execution_count": 2,
   "metadata": {
    "tags": []
   },
   "outputs": [],
   "source": [
    "utils.set_random_seed()"
   ]
  },
  {
   "cell_type": "code",
   "execution_count": 3,
   "metadata": {
    "tags": []
   },
   "outputs": [
    {
     "name": "stdout",
     "output_type": "stream",
     "text": [
      "loading annotations into memory...\n",
      "Done (t=10.64s)\n",
      "creating index...\n",
      "index created!\n",
      "loading annotations into memory...\n",
      "Done (t=0.34s)\n",
      "creating index...\n",
      "index created!\n"
     ]
    }
   ],
   "source": [
    "import coco_dataset\n",
    "import importlib\n",
    "importlib.reload(coco_dataset)\n",
    "\n",
    "# path to MS COCO dataset\n",
    "train_data_dir = '/home/nfs/inf6/data/datasets/coco/train2017'\n",
    "val_data_dir = '/home/nfs/inf6/data/datasets/coco/val2017'\n",
    "\n",
    "\n",
    "# initialize COCO API for segmentation\n",
    "train_ann_file = '/home/nfs/inf6/data/datasets/coco/annotations/instances_train2017.json'\n",
    "val_ann_file = '/home/nfs/inf6/data/datasets/coco/annotations/instances_val2017.json'\n",
    "\n",
    "\n",
    "# make dataset, default transforms is resizing and to tensor\n",
    "train_set = coco_dataset.Coco_Dataset(train_data_dir, train_ann_file, mode=\"segmentation\")\n",
    "val_set = coco_dataset.Coco_Dataset(val_data_dir, val_ann_file, mode=\"segmentation\")\n",
    "\n",
    "batch_size = 16\n",
    "train_loader = torch.utils.data.DataLoader(train_set, batch_size=batch_size, shuffle=True)\n",
    "valid_loader = torch.utils.data.DataLoader(val_set, batch_size=batch_size, shuffle=False)"
   ]
  },
  {
   "cell_type": "code",
   "execution_count": 4,
   "metadata": {
    "tags": []
   },
   "outputs": [
    {
     "data": {
      "text/plain": [
       "torch.Size([1, 256, 256])"
      ]
     },
     "execution_count": 4,
     "metadata": {},
     "output_type": "execute_result"
    }
   ],
   "source": [
    "img, seg_mask = train_set[0]\n",
    "seg_mask.shape"
   ]
  },
  {
   "cell_type": "code",
   "execution_count": 5,
   "metadata": {
    "tags": []
   },
   "outputs": [
    {
     "name": "stdout",
     "output_type": "stream",
     "text": [
      "<class 'temporal_modules.Conv2dGRUCell'>\n"
     ]
    }
   ],
   "source": [
    "import Temporal_UNET_Template\n",
    "import importlib\n",
    "importlib.reload(Temporal_UNET_Template)\n",
    "\n",
    "config = Temporal_UNET_Template.Temporal_UNetConfig()\n",
    "\n",
    "temp_unet = Temporal_UNET_Template.Temporal_UNet(config)\n",
    "\n",
    "temp_unet_optim = torch.optim.Adam(temp_unet.parameters(), lr=3e-4)\n",
    "\n",
    "criterion = nn.CrossEntropyLoss()"
   ]
  },
  {
   "cell_type": "code",
   "execution_count": 6,
   "metadata": {
    "tags": []
   },
   "outputs": [
    {
     "name": "stdout",
     "output_type": "stream",
     "text": [
      "/home/user/schwemme/CudaLab_Project/src/tboard_logs/Temporal_UNet\n"
     ]
    }
   ],
   "source": [
    "importlib.reload(train_eval)\n",
    "\n",
    "epochs=10\n",
    "temp_unet_trainer = train_eval.Trainer(\n",
    "    temp_unet, temp_unet_optim, criterion, train_loader, valid_loader, \"coco\", epochs, sequence=False, all_labels=91, start_epoch=10)"
   ]
  },
  {
   "cell_type": "code",
   "execution_count": null,
   "metadata": {
    "tags": []
   },
   "outputs": [],
   "source": [
    "temp_unet_trainer.train_model()"
   ]
  },
  {
   "cell_type": "code",
   "execution_count": null,
   "metadata": {},
   "outputs": [],
   "source": []
  },
  {
   "cell_type": "code",
   "execution_count": null,
   "metadata": {},
   "outputs": [],
   "source": [
    "city_home = \"/home/nfs/inf6/data/datasets/cityscapes\"\n",
    "\n",
    "cityscapes_train = torchvision.datasets.Cityscapes(root=city_home, split=\"train\", mode=\"coarse\", target_type=\"semantic\")\n",
    "cityscapes_test = torchvision.datasets.Cityscapes(root=city_home, split=\"train_extra\", mode=\"coarse\", target_type=\"semantic\")\n",
    "cityscapes_valid = torchvision.datasets.Cityscapes(root=city_home, split=\"val\", mode=\"coarse\", target_type=\"semantic\")\n"
   ]
  },
  {
   "cell_type": "code",
   "execution_count": null,
   "metadata": {},
   "outputs": [],
   "source": [
    "img, label_dict = train_set[6]\n",
    "masks = label_dict[\"masks\"]\n",
    "labels = label_dict[\"labels\"]\n",
    "seg_mask = label_dict[\"segmentation_mask\"]\n",
    "\n",
    "_, ax = plt.subplots(1, 2)\n",
    "\n",
    "ax[0].imshow(img.permute(1, 2, 0), cmap=\"gray\")\n",
    "ax[1].imshow(seg_mask.squeeze(), cmap=\"gray\")\n",
    "\n",
    "_, x = plt.subplots(1, len(masks), figsize=(20,20))\n",
    "for i in range(len(masks)):\n",
    "    mask = masks[i]\n",
    "    idx = mask == 0\n",
    "    mask[mask == 0] = 100\n",
    "    x[i].imshow(mask, cmap=\"gray\")\n",
    "\n"
   ]
  }
 ],
 "metadata": {
  "kernelspec": {
   "display_name": "Python 3 (ipykernel)",
   "language": "python",
   "name": "python3"
  },
  "language_info": {
   "codemirror_mode": {
    "name": "ipython",
    "version": 3
   },
   "file_extension": ".py",
   "mimetype": "text/x-python",
   "name": "python",
   "nbconvert_exporter": "python",
   "pygments_lexer": "ipython3",
   "version": "3.10.9"
  },
  "vscode": {
   "interpreter": {
    "hash": "a3c029b62e9af0c14c8d20940fd275a7433002acd075126a9d5c47011a54832f"
   }
  }
 },
 "nbformat": 4,
 "nbformat_minor": 4
}

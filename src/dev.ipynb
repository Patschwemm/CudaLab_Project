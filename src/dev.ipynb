{
 "cells": [
  {
   "cell_type": "code",
   "execution_count": 3,
   "metadata": {},
   "outputs": [],
   "source": [
    "import sys\n",
    "import torch\n",
    "import torch.nn as nn\n",
    "import torchvision\n",
    "import torchvision.transforms as T\n",
    "# need ms coco api to get dataset\n",
    "from pycocotools import mask as mask\n",
    "import numpy as np\n",
    "import matplotlib.pyplot as plt\n",
    "sys.path.insert(0, \"../utils\")\n",
    "import utils\n",
    "import train_eval"
   ]
  },
  {
   "cell_type": "code",
   "execution_count": 4,
   "metadata": {},
   "outputs": [],
   "source": [
    "utils.set_random_seed()"
   ]
  },
  {
   "cell_type": "code",
   "execution_count": 5,
   "metadata": {},
   "outputs": [
    {
     "name": "stdout",
     "output_type": "stream",
     "text": [
      "loading annotations into memory...\n",
      "Done (t=10.87s)\n",
      "creating index...\n"
     ]
    }
   ],
   "source": [
    "import coco_dataset\n",
    "import importlib\n",
    "importlib.reload(coco_dataset)\n",
    "\n",
    "# path to MS COCO dataset\n",
    "train_data_dir = '/home/nfs/inf6/data/datasets/coco/train2017'\n",
    "val_data_dir = '/home/nfs/inf6/data/datasets/coco/val2017'\n",
    "\n",
    "\n",
    "# initialize COCO API for segmentation\n",
    "train_ann_file = '/home/nfs/inf6/data/datasets/coco/annotations/instances_train2017.json'\n",
    "val_ann_file = '/home/nfs/inf6/data/datasets/coco/annotations/instances_val2017.json'\n",
    "\n",
    "\n",
    "# make dataset, default transforms is resizing and to tensor\n",
    "train_set = coco_dataset.Coco_Dataset(train_data_dir, train_ann_file, mode=\"segmentation\")\n",
    "val_set = coco_dataset.Coco_Dataset(val_data_dir, val_ann_file, mode=\"segmentation\")\n",
    "\n",
    "batch_size = 18\n",
    "train_loader = torch.utils.data.DataLoader(train_set, batch_size=batch_size, shuffle=True)\n",
    "valid_loader = torch.utils.data.DataLoader(val_set, batch_size=batch_size, shuffle=False)"
   ]
  },
  {
   "cell_type": "code",
   "execution_count": null,
   "metadata": {},
   "outputs": [],
   "source": [
    "device = torch.device(\"cuda\" if torch.cuda.is_available() else \"cpu\")"
   ]
  },
  {
   "cell_type": "code",
   "execution_count": null,
   "metadata": {},
   "outputs": [
    {
     "name": "stdout",
     "output_type": "stream",
     "text": [
      "[0.         0.00392157]\n",
      "[0.         0.00392157]\n",
      "[0.         0.00392157]\n",
      "[0.         0.00392157]\n",
      "[0.         0.00392157]\n",
      "[0.         0.00392157]\n",
      "[0.         0.00392157]\n",
      "[0.         0.00392157]\n",
      "[0.         0.00392157]\n",
      "[0.         0.00392157]\n",
      "[0.         0.00392157]\n",
      "[0.         0.00392157]\n",
      "[0.         0.00392157]\n",
      "[0.         0.00392157]\n",
      "[0.         0.00392157]\n",
      "[0.         0.00392157]\n",
      "[0.         0.00392157]\n",
      "[0.         0.00392157]\n",
      "[0.         0.00392157]\n",
      "[0.         0.00392157]\n",
      "[0.         0.00392157]\n",
      "[0.         0.00392157]\n",
      "[0.         0.00392157]\n",
      "[0.         0.00392157]\n",
      "[0.         0.00392157]\n",
      "[0.         0.00392157]\n",
      "[0.         0.00392157]\n",
      "[0.         0.00392157]\n",
      "[0.         0.00392157]\n",
      "[0.         0.00392157]\n",
      "[0.         0.00392157]\n",
      "[0.         0.00392157]\n",
      "[0.         0.00392157]\n",
      "[0.         0.00392157]\n",
      "[0.         0.00392157]\n",
      "[0.         0.00392157]\n",
      "[0.         0.00392157]\n",
      "[0.         0.00392157]\n",
      "[0.         0.00392157]\n",
      "[0.         0.00392157]\n",
      "[0.         0.00392157]\n",
      "[0.         0.00392157]\n",
      "[0.         0.00392157]\n",
      "[0.         0.00392157]\n",
      "[0.         0.00392157]\n",
      "[0.         0.00392157]\n",
      "[0.         0.00392157]\n",
      "[0.         0.00392157]\n",
      "[0.         0.00392157]\n",
      "[0.         0.00392157]\n",
      "[0.         0.00392157]\n",
      "[0.         0.00392157]\n",
      "[0.         0.00392157]\n",
      "[0.         0.00392157]\n",
      "[0.         0.00392157]\n",
      "[0.         0.00392157]\n",
      "[0.         0.00392157]\n",
      "[0.         0.00392157]\n",
      "[0.         0.00392157]\n",
      "[0.         0.00392157]\n",
      "[0.         0.00392157]\n",
      "[0.         0.00392157]\n",
      "[0.         0.00392157]\n",
      "[0.         0.00392157]\n",
      "[0.         0.00392157]\n",
      "[0.         0.00392157]\n",
      "[0.         0.00392157]\n",
      "[0.         0.00392157]\n",
      "[0.         0.00392157]\n",
      "[0.         0.00392157]\n",
      "[0.         0.00392157]\n",
      "[0.         0.00392157]\n",
      "[0.         0.00392157]\n",
      "[0.         0.00392157]\n",
      "[0.         0.00392157]\n",
      "[0.         0.00392157]\n",
      "[0.         0.00392157]\n",
      "[0.         0.00392157]\n",
      "[0.         0.00392157]\n",
      "[0.         0.00392157]\n",
      "[0.         0.00392157]\n",
      "[0.         0.00392157]\n",
      "[0.         0.00392157]\n",
      "[0.         0.00392157]\n",
      "[0.         0.00392157]\n",
      "[0.         0.00392157]\n",
      "[0.         0.00392157]\n",
      "[0.         0.00392157]\n",
      "[0.         0.00392157]\n",
      "[0.         0.00392157]\n",
      "[0.         0.00392157]\n",
      "[0.         0.00392157]\n",
      "[0.         0.00392157]\n",
      "[0.         0.00392157]\n",
      "[0.         0.00392157]\n",
      "[0.         0.00392157]\n",
      "[0.         0.00392157]\n",
      "[0.         0.00392157]\n",
      "[0.         0.00392157]\n"
     ]
    },
    {
     "data": {
      "text/plain": [
       "tensor([  0.0000,  47.0000,  48.0000,  49.0000,  51.0000,  53.0000,  54.0000,\n",
       "         67.0000,  98.0000, 114.0000, 115.0000, 118.0000], device='cuda:0')"
      ]
     },
     "execution_count": 11,
     "metadata": {},
     "output_type": "execute_result"
    }
   ],
   "source": [
    "label_example = None\n",
    "for images, labels in train_loader:\n",
    "    images = images.to(device)\n",
    "    labels = labels.to(device)\n",
    "    label_example = labels[0].squeeze()\n",
    "    break\n",
    "\n",
    "label_example.unique()"
   ]
  }
 ],
 "metadata": {
  "kernelspec": {
   "display_name": "cuda",
   "language": "python",
   "name": "python3"
  },
  "language_info": {
   "codemirror_mode": {
    "name": "ipython",
    "version": 3
   },
   "file_extension": ".py",
   "mimetype": "text/x-python",
   "name": "python",
   "nbconvert_exporter": "python",
   "pygments_lexer": "ipython3",
   "version": "3.10.8"
  },
  "orig_nbformat": 4
 },
 "nbformat": 4,
 "nbformat_minor": 2
}

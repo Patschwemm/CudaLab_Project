{
 "cells": [
  {
   "cell_type": "code",
   "execution_count": 1,
   "metadata": {
    "tags": []
   },
   "outputs": [],
   "source": [
    "import torch\n",
    "import torch.nn as nn\n",
    "import torch.nn.functional as F\n",
    "from torch.autograd import Variable\n",
    "from torchvision.utils import save_image\n",
    "import torchvision.transforms as transforms\n",
    "from torchvision import datasets, models, transforms\n",
    "import torchvision\n",
    "\n",
    "import os\n",
    "import sys\n",
    "sys.path.insert(0, \"../utils\")\n",
    "import numpy as np\n",
    "import matplotlib\n",
    "from matplotlib import pyplot as plt\n",
    "from tqdm import tqdm\n",
    "\n",
    "import cityscapes_loader\n",
    "import train_eval\n",
    "import importlib"
   ]
  },
  {
   "cell_type": "code",
   "execution_count": 2,
   "metadata": {
    "tags": []
   },
   "outputs": [
    {
     "name": "stdout",
     "output_type": "stream",
     "text": [
      "Found 2975 train images\n",
      "Found 500 val images\n"
     ]
    }
   ],
   "source": [
    "importlib.reload(cityscapes_loader)\n",
    "\n",
    "dataset_root_dir = \"/home/nfs/inf6/data/datasets/cityscapes/\"\n",
    "\n",
    "train_ds = cityscapes_loader.cityscapesLoader(root=dataset_root_dir, split='train', img_size=(512, 1024), is_transform=True, is_sequence=True)\n",
    "val_ds = cityscapes_loader.cityscapesLoader(root=dataset_root_dir, split='val', img_size=(512, 1024), is_transform=True, is_sequence=True)\n",
    "\n",
    "train_loader = torch.utils.data.DataLoader(train_ds, batch_size=4, shuffle=True, drop_last=True)\n",
    "valid_loader = torch.utils.data.DataLoader(val_ds, batch_size=4, shuffle=False, drop_last=True)"
   ]
  },
  {
   "cell_type": "code",
   "execution_count": 3,
   "metadata": {
    "tags": []
   },
   "outputs": [],
   "source": [
    "import UNet_Template\n",
    "import importlib\n",
    "importlib.reload(UNet_Template)\n",
    "\n",
    "config = UNet_Template.RNN_UNetConfig(out_channels=train_ds.n_classes+1)\n",
    "\n",
    "rnn_unet = UNet_Template.RNN_UNet(config)\n",
    "\n",
    "rnn_unet_optim = torch.optim.Adam(rnn_unet.parameters(), lr=3e-4)\n",
    "\n",
    "criterion = nn.CrossEntropyLoss()"
   ]
  },
  {
   "cell_type": "code",
   "execution_count": 4,
   "metadata": {
    "tags": []
   },
   "outputs": [
    {
     "name": "stdout",
     "output_type": "stream",
     "text": [
      "/home/user/gomezruizs0/CudaLab_Project/src/tboard_logs/RNN_UNet\n"
     ]
    }
   ],
   "source": [
    "importlib.reload(train_eval)\n",
    "\n",
    "epochs=100\n",
    "rnn_unet_trainer = train_eval.Trainer(\n",
    "    rnn_unet, rnn_unet_optim, criterion, train_loader, valid_loader, \"cityscapes\", epochs, sequence=False, all_labels=20, start_epoch=0)"
   ]
  },
  {
   "cell_type": "code",
   "execution_count": null,
   "metadata": {},
   "outputs": [],
   "source": [
    "rnn_unet_trainer.train_model()"
   ]
  },
  {
   "cell_type": "code",
   "execution_count": null,
   "metadata": {},
   "outputs": [],
   "source": [
    "test_label = label[1]\n",
    "print(test_label.shape)\n",
    "test_label = val_ds.decode_segmap(test_label.numpy()[0])\n",
    "# display the image\n",
    "plt.imshow(test_label)"
   ]
  },
  {
   "cell_type": "code",
   "execution_count": null,
   "metadata": {},
   "outputs": [],
   "source": [
    "def display_seq(seq):\n",
    "    for i in range(seq.shape[0]):\n",
    "        img = seq[i]\n",
    "        mean = torch.tensor([0.485, 0.456, 0.406]).view( 3, 1, 1)\n",
    "        std = torch.tensor([0.229, 0.224, 0.225]).view(3, 1, 1)\n",
    "        img = img * std + mean\n",
    "        img = img.cpu().permute(1, 2, 0).numpy()\n",
    "        plt.imshow(img)\n",
    "        # add number \n",
    "        plt.title(i)\n",
    "        plt.show()\n",
    "\n",
    "display_seq(img)"
   ]
  },
  {
   "cell_type": "code",
   "execution_count": null,
   "metadata": {},
   "outputs": [],
   "source": []
  }
 ],
 "metadata": {
  "kernelspec": {
   "display_name": "Python 3 (ipykernel)",
   "language": "python",
   "name": "python3"
  },
  "language_info": {
   "codemirror_mode": {
    "name": "ipython",
    "version": 3
   },
   "file_extension": ".py",
   "mimetype": "text/x-python",
   "name": "python",
   "nbconvert_exporter": "python",
   "pygments_lexer": "ipython3",
   "version": "3.10.8"
  }
 },
 "nbformat": 4,
 "nbformat_minor": 4
}

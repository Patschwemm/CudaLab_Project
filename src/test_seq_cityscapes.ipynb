{
 "cells": [
  {
   "cell_type": "code",
   "execution_count": 1,
   "metadata": {
    "tags": []
   },
   "outputs": [],
   "source": [
    "import torch\n",
    "import torch.nn as nn\n",
    "import torch.nn.functional as F\n",
    "from torch.autograd import Variable\n",
    "from torchvision.utils import save_image\n",
    "import torchvision.transforms as transforms\n",
    "from torchvision import datasets, models, transforms\n",
    "import torchvision\n",
    "\n",
    "import os\n",
    "import sys\n",
    "sys.path.insert(0, \"../utils\")\n",
    "import numpy as np\n",
    "import matplotlib\n",
    "from matplotlib import pyplot as plt\n",
    "from tqdm import tqdm\n",
    "\n",
    "import cityscapes_loader\n",
    "import train_eval\n",
    "import importlib"
   ]
  },
  {
   "cell_type": "code",
   "execution_count": 2,
   "metadata": {
    "tags": []
   },
   "outputs": [
    {
     "name": "stdout",
     "output_type": "stream",
     "text": [
      "Found 2975 train images\n",
      "Found 500 val images\n"
     ]
    }
   ],
   "source": [
    "importlib.reload(cityscapes_loader)\n",
    "\n",
    "is_sequence = True\n",
    "\n",
    "dataset_root_dir = \"/home/nfs/inf6/data/datasets/cityscapes/\"\n",
    "\n",
    "train_ds = cityscapes_loader.cityscapesLoader(root=dataset_root_dir, split='train', img_size=(512, 1024), is_transform=True, is_sequence=is_sequence)\n",
    "val_ds = cityscapes_loader.cityscapesLoader(root=dataset_root_dir, split='val', img_size=(512, 1024), is_transform=True, is_sequence=is_sequence)\n",
    "\n",
    "train_loader = torch.utils.data.DataLoader(train_ds, batch_size=3, shuffle=True, drop_last=True)\n",
    "valid_loader = torch.utils.data.DataLoader(val_ds, batch_size=3, shuffle=False, drop_last=True)"
   ]
  },
  {
   "cell_type": "code",
   "execution_count": 3,
   "metadata": {
    "tags": []
   },
   "outputs": [],
   "source": [
    "import UNet_Template\n",
    "import importlib\n",
    "importlib.reload(UNet_Template)\n",
    "\n",
    "config = UNet_Template.RNN_UNetConfig(out_channels=train_ds.n_classes+1)\n",
    "\n",
    "rnn_unet = UNet_Template.RNN_UNet(config)\n",
    "\n",
    "rnn_unet_optim = torch.optim.Adam(rnn_unet.parameters(), lr=3e-4)\n",
    "\n",
    "criterion = nn.CrossEntropyLoss()"
   ]
  },
  {
   "cell_type": "code",
   "execution_count": 4,
   "metadata": {
    "tags": []
   },
   "outputs": [
    {
     "name": "stdout",
     "output_type": "stream",
     "text": [
      "/home/user/schwemme/CudaLab_Project/src/tboard_logs/RNN_UNet\n"
     ]
    }
   ],
   "source": [
    "importlib.reload(train_eval)\n",
    "\n",
    "epochs=100\n",
    "rnn_unet_trainer = train_eval.Trainer(\n",
    "    rnn_unet, rnn_unet_optim, criterion, train_loader, valid_loader, \"cityscapes\", epochs, sequence=is_sequence, all_labels=20, start_epoch=0)"
   ]
  },
  {
   "cell_type": "code",
   "execution_count": 5,
   "metadata": {},
   "outputs": [
    {
     "name": "stdout",
     "output_type": "stream",
     "text": [
      "[3, 3, 512, 1024]\n",
      "[3, 3, 256, 512]\n",
      "[3, 3, 128, 256]\n",
      "torch.Size([3, 64, 512, 1024]) torch.Size([3, 64, 512, 1024])\n",
      "torch.Size([3, 128, 256, 512]) torch.Size([3, 128, 256, 512])\n",
      "torch.Size([3, 256, 128, 256]) torch.Size([3, 256, 128, 256])\n",
      "torch.Size([3, 64, 512, 1024]) torch.Size([3, 64, 512, 1024])\n",
      "torch.Size([3, 128, 256, 512]) torch.Size([3, 128, 256, 512])\n",
      "torch.Size([3, 256, 128, 256]) torch.Size([3, 256, 128, 256])\n",
      "torch.Size([3, 64, 512, 1024]) torch.Size([3, 64, 512, 1024])\n",
      "torch.Size([3, 128, 256, 512]) torch.Size([3, 128, 256, 512])\n",
      "torch.Size([3, 256, 128, 256]) torch.Size([3, 256, 128, 256])\n",
      "torch.Size([3, 64, 512, 1024]) torch.Size([3, 64, 512, 1024])\n",
      "torch.Size([3, 128, 256, 512]) torch.Size([3, 128, 256, 512])\n",
      "torch.Size([3, 256, 128, 256]) torch.Size([3, 256, 128, 256])\n",
      "torch.Size([3, 64, 512, 1024]) torch.Size([3, 64, 512, 1024])\n",
      "torch.Size([3, 128, 256, 512]) torch.Size([3, 128, 256, 512])\n",
      "torch.Size([3, 256, 128, 256]) torch.Size([3, 256, 128, 256])\n",
      "torch.Size([3, 64, 512, 1024]) torch.Size([3, 64, 512, 1024])\n",
      "torch.Size([3, 128, 256, 512]) torch.Size([3, 128, 256, 512])\n",
      "torch.Size([3, 256, 128, 256]) torch.Size([3, 256, 128, 256])\n",
      "torch.Size([3, 64, 512, 1024]) torch.Size([3, 64, 512, 1024])\n",
      "torch.Size([3, 128, 256, 512]) torch.Size([3, 128, 256, 512])\n",
      "torch.Size([3, 256, 128, 256]) torch.Size([3, 256, 128, 256])\n",
      "torch.Size([3, 64, 512, 1024]) torch.Size([3, 64, 512, 1024])\n",
      "torch.Size([3, 128, 256, 512]) torch.Size([3, 128, 256, 512])\n",
      "torch.Size([3, 256, 128, 256]) torch.Size([3, 256, 128, 256])\n",
      "torch.Size([3, 64, 512, 1024]) torch.Size([3, 64, 512, 1024])\n",
      "torch.Size([3, 128, 256, 512]) torch.Size([3, 128, 256, 512])\n",
      "torch.Size([3, 256, 128, 256]) torch.Size([3, 256, 128, 256])\n",
      "torch.Size([3, 64, 512, 1024]) torch.Size([3, 64, 512, 1024])\n",
      "torch.Size([3, 128, 256, 512]) torch.Size([3, 128, 256, 512])\n",
      "torch.Size([3, 256, 128, 256]) torch.Size([3, 256, 128, 256])\n",
      "torch.Size([3, 64, 512, 1024]) torch.Size([3, 64, 512, 1024])\n",
      "torch.Size([3, 128, 256, 512]) torch.Size([3, 128, 256, 512])\n",
      "torch.Size([3, 256, 128, 256]) torch.Size([3, 256, 128, 256])\n",
      "torch.Size([3, 64, 512, 1024]) torch.Size([3, 64, 512, 1024])\n",
      "torch.Size([3, 128, 256, 512]) torch.Size([3, 128, 256, 512])\n",
      "torch.Size([3, 256, 128, 256]) torch.Size([3, 256, 128, 256])\n",
      "outputs shape torch.Size([3, 12, 20, 512, 1024])\n",
      "gt_train_data shape: torch.Size([3, 1, 20, 512, 1024])\n",
      "tensor(2.9779, device='cuda:0')\n",
      "torch.Size([3, 1, 512, 1024])\n",
      "torch.Size([1572864]) torch.Size([1572864])\n",
      "[3, 3, 512, 1024]\n",
      "[3, 3, 256, 512]\n",
      "[3, 3, 128, 256]\n",
      "torch.Size([3, 64, 512, 1024]) torch.Size([3, 64, 512, 1024])\n",
      "torch.Size([3, 128, 256, 512]) torch.Size([3, 128, 256, 512])\n",
      "torch.Size([3, 256, 128, 256]) torch.Size([3, 256, 128, 256])\n",
      "torch.Size([3, 64, 512, 1024]) torch.Size([3, 64, 512, 1024])\n",
      "torch.Size([3, 128, 256, 512]) torch.Size([3, 128, 256, 512])\n",
      "torch.Size([3, 256, 128, 256]) torch.Size([3, 256, 128, 256])\n",
      "torch.Size([3, 64, 512, 1024]) torch.Size([3, 64, 512, 1024])\n",
      "torch.Size([3, 128, 256, 512]) torch.Size([3, 128, 256, 512])\n",
      "torch.Size([3, 256, 128, 256]) torch.Size([3, 256, 128, 256])\n",
      "torch.Size([3, 64, 512, 1024]) torch.Size([3, 64, 512, 1024])\n",
      "torch.Size([3, 128, 256, 512]) torch.Size([3, 128, 256, 512])\n",
      "torch.Size([3, 256, 128, 256]) torch.Size([3, 256, 128, 256])\n",
      "torch.Size([3, 64, 512, 1024]) torch.Size([3, 64, 512, 1024])\n",
      "torch.Size([3, 128, 256, 512]) torch.Size([3, 128, 256, 512])\n",
      "torch.Size([3, 256, 128, 256]) torch.Size([3, 256, 128, 256])\n",
      "torch.Size([3, 64, 512, 1024]) torch.Size([3, 64, 512, 1024])\n",
      "torch.Size([3, 128, 256, 512]) torch.Size([3, 128, 256, 512])\n",
      "torch.Size([3, 256, 128, 256]) torch.Size([3, 256, 128, 256])\n",
      "torch.Size([3, 64, 512, 1024]) torch.Size([3, 64, 512, 1024])\n",
      "torch.Size([3, 128, 256, 512]) torch.Size([3, 128, 256, 512])\n",
      "torch.Size([3, 256, 128, 256]) torch.Size([3, 256, 128, 256])\n",
      "torch.Size([3, 64, 512, 1024]) torch.Size([3, 64, 512, 1024])\n",
      "torch.Size([3, 128, 256, 512]) torch.Size([3, 128, 256, 512])\n",
      "torch.Size([3, 256, 128, 256]) torch.Size([3, 256, 128, 256])\n",
      "torch.Size([3, 64, 512, 1024]) torch.Size([3, 64, 512, 1024])\n",
      "torch.Size([3, 128, 256, 512]) torch.Size([3, 128, 256, 512])\n",
      "torch.Size([3, 256, 128, 256]) torch.Size([3, 256, 128, 256])\n",
      "torch.Size([3, 64, 512, 1024]) torch.Size([3, 64, 512, 1024])\n",
      "torch.Size([3, 128, 256, 512]) torch.Size([3, 128, 256, 512])\n",
      "torch.Size([3, 256, 128, 256]) torch.Size([3, 256, 128, 256])\n",
      "torch.Size([3, 64, 512, 1024]) torch.Size([3, 64, 512, 1024])\n",
      "torch.Size([3, 128, 256, 512]) torch.Size([3, 128, 256, 512])\n",
      "torch.Size([3, 256, 128, 256]) torch.Size([3, 256, 128, 256])\n",
      "torch.Size([3, 64, 512, 1024]) torch.Size([3, 64, 512, 1024])\n",
      "torch.Size([3, 128, 256, 512]) torch.Size([3, 128, 256, 512])\n",
      "torch.Size([3, 256, 128, 256]) torch.Size([3, 256, 128, 256])\n",
      "outputs shape torch.Size([3, 12, 20, 512, 1024])\n",
      "gt_train_data shape: torch.Size([3, 1, 20, 512, 1024])\n",
      "tensor(2.9798, device='cuda:0')\n",
      "torch.Size([3, 1, 512, 1024])\n",
      "torch.Size([1572864]) torch.Size([1572864])\n"
     ]
    },
    {
     "ename": "KeyboardInterrupt",
     "evalue": "",
     "output_type": "error",
     "traceback": [
      "\u001b[0;31m---------------------------------------------------------------------------\u001b[0m",
      "\u001b[0;31mKeyboardInterrupt\u001b[0m                         Traceback (most recent call last)",
      "Cell \u001b[0;32mIn[5], line 1\u001b[0m\n\u001b[0;32m----> 1\u001b[0m rnn_unet_trainer\u001b[39m.\u001b[39;49mtrain_model()\n",
      "File \u001b[0;32m~/CudaLab_Project/src/../utils/train_eval.py:148\u001b[0m, in \u001b[0;36mTrainer.train_model\u001b[0;34m(self)\u001b[0m\n\u001b[1;32m    144\u001b[0m \u001b[39mfor\u001b[39;00m epoch \u001b[39min\u001b[39;00m \u001b[39mrange\u001b[39m(\u001b[39mself\u001b[39m\u001b[39m.\u001b[39mepochs):\n\u001b[1;32m    145\u001b[0m     \n\u001b[1;32m    146\u001b[0m     \u001b[39m# validation epoch\u001b[39;00m\n\u001b[1;32m    147\u001b[0m     \u001b[39mself\u001b[39m\u001b[39m.\u001b[39mmodel\u001b[39m.\u001b[39meval()  \u001b[39m# important for dropout and batch norms\u001b[39;00m\n\u001b[0;32m--> 148\u001b[0m     mIoU, mAcc, loss \u001b[39m=\u001b[39m \u001b[39mself\u001b[39;49m\u001b[39m.\u001b[39;49meval_model()\n\u001b[1;32m    149\u001b[0m     \u001b[39mself\u001b[39m\u001b[39m.\u001b[39mvalid_mIoU\u001b[39m.\u001b[39mappend(mIoU)\n\u001b[1;32m    150\u001b[0m     \u001b[39mself\u001b[39m\u001b[39m.\u001b[39mvalid_mAcc\u001b[39m.\u001b[39mappend(mAcc)\n",
      "File \u001b[0;32m~/miniconda3/envs/cuda/lib/python3.10/site-packages/torch/autograd/grad_mode.py:27\u001b[0m, in \u001b[0;36m_DecoratorContextManager.__call__.<locals>.decorate_context\u001b[0;34m(*args, **kwargs)\u001b[0m\n\u001b[1;32m     24\u001b[0m \u001b[39m@functools\u001b[39m\u001b[39m.\u001b[39mwraps(func)\n\u001b[1;32m     25\u001b[0m \u001b[39mdef\u001b[39;00m \u001b[39mdecorate_context\u001b[39m(\u001b[39m*\u001b[39margs, \u001b[39m*\u001b[39m\u001b[39m*\u001b[39mkwargs):\n\u001b[1;32m     26\u001b[0m     \u001b[39mwith\u001b[39;00m \u001b[39mself\u001b[39m\u001b[39m.\u001b[39mclone():\n\u001b[0;32m---> 27\u001b[0m         \u001b[39mreturn\u001b[39;00m func(\u001b[39m*\u001b[39;49margs, \u001b[39m*\u001b[39;49m\u001b[39m*\u001b[39;49mkwargs)\n",
      "File \u001b[0;32m~/CudaLab_Project/src/../utils/train_eval.py:105\u001b[0m, in \u001b[0;36mTrainer.eval_model\u001b[0;34m(self)\u001b[0m\n\u001b[1;32m    102\u001b[0m \u001b[39melse\u001b[39;00m:\n\u001b[1;32m    103\u001b[0m     \u001b[39mself\u001b[39m\u001b[39m.\u001b[39mconf_mat \u001b[39m==\u001b[39m \u001b[39mNone\u001b[39;00m\n\u001b[0;32m--> 105\u001b[0m \u001b[39mfor\u001b[39;00m images, labels \u001b[39min\u001b[39;00m \u001b[39mself\u001b[39m\u001b[39m.\u001b[39mvalid_loader:\n\u001b[1;32m    107\u001b[0m     outputs, loss, seg_mask \u001b[39m=\u001b[39m \u001b[39mself\u001b[39m\u001b[39m.\u001b[39mtrain_fn(images, labels)\n\u001b[1;32m    109\u001b[0m     loss_list\u001b[39m.\u001b[39mappend(loss\u001b[39m.\u001b[39mitem())\n",
      "File \u001b[0;32m~/miniconda3/envs/cuda/lib/python3.10/site-packages/torch/utils/data/dataloader.py:628\u001b[0m, in \u001b[0;36m_BaseDataLoaderIter.__next__\u001b[0;34m(self)\u001b[0m\n\u001b[1;32m    625\u001b[0m \u001b[39mif\u001b[39;00m \u001b[39mself\u001b[39m\u001b[39m.\u001b[39m_sampler_iter \u001b[39mis\u001b[39;00m \u001b[39mNone\u001b[39;00m:\n\u001b[1;32m    626\u001b[0m     \u001b[39m# TODO(https://github.com/pytorch/pytorch/issues/76750)\u001b[39;00m\n\u001b[1;32m    627\u001b[0m     \u001b[39mself\u001b[39m\u001b[39m.\u001b[39m_reset()  \u001b[39m# type: ignore[call-arg]\u001b[39;00m\n\u001b[0;32m--> 628\u001b[0m data \u001b[39m=\u001b[39m \u001b[39mself\u001b[39;49m\u001b[39m.\u001b[39;49m_next_data()\n\u001b[1;32m    629\u001b[0m \u001b[39mself\u001b[39m\u001b[39m.\u001b[39m_num_yielded \u001b[39m+\u001b[39m\u001b[39m=\u001b[39m \u001b[39m1\u001b[39m\n\u001b[1;32m    630\u001b[0m \u001b[39mif\u001b[39;00m \u001b[39mself\u001b[39m\u001b[39m.\u001b[39m_dataset_kind \u001b[39m==\u001b[39m _DatasetKind\u001b[39m.\u001b[39mIterable \u001b[39mand\u001b[39;00m \\\n\u001b[1;32m    631\u001b[0m         \u001b[39mself\u001b[39m\u001b[39m.\u001b[39m_IterableDataset_len_called \u001b[39mis\u001b[39;00m \u001b[39mnot\u001b[39;00m \u001b[39mNone\u001b[39;00m \u001b[39mand\u001b[39;00m \\\n\u001b[1;32m    632\u001b[0m         \u001b[39mself\u001b[39m\u001b[39m.\u001b[39m_num_yielded \u001b[39m>\u001b[39m \u001b[39mself\u001b[39m\u001b[39m.\u001b[39m_IterableDataset_len_called:\n",
      "File \u001b[0;32m~/miniconda3/envs/cuda/lib/python3.10/site-packages/torch/utils/data/dataloader.py:671\u001b[0m, in \u001b[0;36m_SingleProcessDataLoaderIter._next_data\u001b[0;34m(self)\u001b[0m\n\u001b[1;32m    669\u001b[0m \u001b[39mdef\u001b[39;00m \u001b[39m_next_data\u001b[39m(\u001b[39mself\u001b[39m):\n\u001b[1;32m    670\u001b[0m     index \u001b[39m=\u001b[39m \u001b[39mself\u001b[39m\u001b[39m.\u001b[39m_next_index()  \u001b[39m# may raise StopIteration\u001b[39;00m\n\u001b[0;32m--> 671\u001b[0m     data \u001b[39m=\u001b[39m \u001b[39mself\u001b[39;49m\u001b[39m.\u001b[39;49m_dataset_fetcher\u001b[39m.\u001b[39;49mfetch(index)  \u001b[39m# may raise StopIteration\u001b[39;00m\n\u001b[1;32m    672\u001b[0m     \u001b[39mif\u001b[39;00m \u001b[39mself\u001b[39m\u001b[39m.\u001b[39m_pin_memory:\n\u001b[1;32m    673\u001b[0m         data \u001b[39m=\u001b[39m _utils\u001b[39m.\u001b[39mpin_memory\u001b[39m.\u001b[39mpin_memory(data, \u001b[39mself\u001b[39m\u001b[39m.\u001b[39m_pin_memory_device)\n",
      "File \u001b[0;32m~/miniconda3/envs/cuda/lib/python3.10/site-packages/torch/utils/data/_utils/fetch.py:58\u001b[0m, in \u001b[0;36m_MapDatasetFetcher.fetch\u001b[0;34m(self, possibly_batched_index)\u001b[0m\n\u001b[1;32m     56\u001b[0m         data \u001b[39m=\u001b[39m \u001b[39mself\u001b[39m\u001b[39m.\u001b[39mdataset\u001b[39m.\u001b[39m__getitems__(possibly_batched_index)\n\u001b[1;32m     57\u001b[0m     \u001b[39melse\u001b[39;00m:\n\u001b[0;32m---> 58\u001b[0m         data \u001b[39m=\u001b[39m [\u001b[39mself\u001b[39m\u001b[39m.\u001b[39mdataset[idx] \u001b[39mfor\u001b[39;00m idx \u001b[39min\u001b[39;00m possibly_batched_index]\n\u001b[1;32m     59\u001b[0m \u001b[39melse\u001b[39;00m:\n\u001b[1;32m     60\u001b[0m     data \u001b[39m=\u001b[39m \u001b[39mself\u001b[39m\u001b[39m.\u001b[39mdataset[possibly_batched_index]\n",
      "File \u001b[0;32m~/miniconda3/envs/cuda/lib/python3.10/site-packages/torch/utils/data/_utils/fetch.py:58\u001b[0m, in \u001b[0;36m<listcomp>\u001b[0;34m(.0)\u001b[0m\n\u001b[1;32m     56\u001b[0m         data \u001b[39m=\u001b[39m \u001b[39mself\u001b[39m\u001b[39m.\u001b[39mdataset\u001b[39m.\u001b[39m__getitems__(possibly_batched_index)\n\u001b[1;32m     57\u001b[0m     \u001b[39melse\u001b[39;00m:\n\u001b[0;32m---> 58\u001b[0m         data \u001b[39m=\u001b[39m [\u001b[39mself\u001b[39;49m\u001b[39m.\u001b[39;49mdataset[idx] \u001b[39mfor\u001b[39;00m idx \u001b[39min\u001b[39;00m possibly_batched_index]\n\u001b[1;32m     59\u001b[0m \u001b[39melse\u001b[39;00m:\n\u001b[1;32m     60\u001b[0m     data \u001b[39m=\u001b[39m \u001b[39mself\u001b[39m\u001b[39m.\u001b[39mdataset[possibly_batched_index]\n",
      "File \u001b[0;32m~/CudaLab_Project/src/cityscapes_loader.py:185\u001b[0m, in \u001b[0;36mcityscapesLoader.__getitem__\u001b[0;34m(self, index)\u001b[0m\n\u001b[1;32m    183\u001b[0m     \u001b[39mfor\u001b[39;00m img_path \u001b[39min\u001b[39;00m img_paths[start_idx_sequence : start_idx_sequence \u001b[39m+\u001b[39m \u001b[39mself\u001b[39m\u001b[39m.\u001b[39msequence_length]:\n\u001b[1;32m    184\u001b[0m         img \u001b[39m=\u001b[39m Image\u001b[39m.\u001b[39mopen(img_path)\n\u001b[0;32m--> 185\u001b[0m         img \u001b[39m=\u001b[39m np\u001b[39m.\u001b[39;49marray(img, dtype\u001b[39m=\u001b[39;49mnp\u001b[39m.\u001b[39;49muint8)\n\u001b[1;32m    186\u001b[0m         imgs\u001b[39m.\u001b[39mappend(img)\n\u001b[1;32m    187\u001b[0m \u001b[39melse\u001b[39;00m:\n",
      "File \u001b[0;32m~/miniconda3/envs/cuda/lib/python3.10/site-packages/PIL/Image.py:701\u001b[0m, in \u001b[0;36mImage.__array_interface__\u001b[0;34m(self)\u001b[0m\n\u001b[1;32m    699\u001b[0m         new[\u001b[39m\"\u001b[39m\u001b[39mdata\u001b[39m\u001b[39m\"\u001b[39m] \u001b[39m=\u001b[39m \u001b[39mself\u001b[39m\u001b[39m.\u001b[39mtobytes(\u001b[39m\"\u001b[39m\u001b[39mraw\u001b[39m\u001b[39m\"\u001b[39m, \u001b[39m\"\u001b[39m\u001b[39mL\u001b[39m\u001b[39m\"\u001b[39m)\n\u001b[1;32m    700\u001b[0m     \u001b[39melse\u001b[39;00m:\n\u001b[0;32m--> 701\u001b[0m         new[\u001b[39m\"\u001b[39m\u001b[39mdata\u001b[39m\u001b[39m\"\u001b[39m] \u001b[39m=\u001b[39m \u001b[39mself\u001b[39;49m\u001b[39m.\u001b[39;49mtobytes()\n\u001b[1;32m    702\u001b[0m \u001b[39mexcept\u001b[39;00m \u001b[39mException\u001b[39;00m \u001b[39mas\u001b[39;00m e:\n\u001b[1;32m    703\u001b[0m     \u001b[39mif\u001b[39;00m \u001b[39mnot\u001b[39;00m \u001b[39misinstance\u001b[39m(e, (\u001b[39mMemoryError\u001b[39;00m, \u001b[39mRecursionError\u001b[39;00m)):\n",
      "File \u001b[0;32m~/miniconda3/envs/cuda/lib/python3.10/site-packages/PIL/Image.py:758\u001b[0m, in \u001b[0;36mImage.tobytes\u001b[0;34m(self, encoder_name, *args)\u001b[0m\n\u001b[1;32m    755\u001b[0m \u001b[39mif\u001b[39;00m encoder_name \u001b[39m==\u001b[39m \u001b[39m\"\u001b[39m\u001b[39mraw\u001b[39m\u001b[39m\"\u001b[39m \u001b[39mand\u001b[39;00m args \u001b[39m==\u001b[39m ():\n\u001b[1;32m    756\u001b[0m     args \u001b[39m=\u001b[39m \u001b[39mself\u001b[39m\u001b[39m.\u001b[39mmode\n\u001b[0;32m--> 758\u001b[0m \u001b[39mself\u001b[39;49m\u001b[39m.\u001b[39;49mload()\n\u001b[1;32m    760\u001b[0m \u001b[39mif\u001b[39;00m \u001b[39mself\u001b[39m\u001b[39m.\u001b[39mwidth \u001b[39m==\u001b[39m \u001b[39m0\u001b[39m \u001b[39mor\u001b[39;00m \u001b[39mself\u001b[39m\u001b[39m.\u001b[39mheight \u001b[39m==\u001b[39m \u001b[39m0\u001b[39m:\n\u001b[1;32m    761\u001b[0m     \u001b[39mreturn\u001b[39;00m \u001b[39mb\u001b[39m\u001b[39m\"\u001b[39m\u001b[39m\"\u001b[39m\n",
      "File \u001b[0;32m~/miniconda3/envs/cuda/lib/python3.10/site-packages/PIL/ImageFile.py:269\u001b[0m, in \u001b[0;36mImageFile.load\u001b[0;34m(self)\u001b[0m\n\u001b[1;32m    266\u001b[0m         \u001b[39mraise\u001b[39;00m \u001b[39mOSError\u001b[39;00m(msg)\n\u001b[1;32m    268\u001b[0m b \u001b[39m=\u001b[39m b \u001b[39m+\u001b[39m s\n\u001b[0;32m--> 269\u001b[0m n, err_code \u001b[39m=\u001b[39m decoder\u001b[39m.\u001b[39;49mdecode(b)\n\u001b[1;32m    270\u001b[0m \u001b[39mif\u001b[39;00m n \u001b[39m<\u001b[39m \u001b[39m0\u001b[39m:\n\u001b[1;32m    271\u001b[0m     \u001b[39mbreak\u001b[39;00m\n",
      "\u001b[0;31mKeyboardInterrupt\u001b[0m: "
     ]
    }
   ],
   "source": [
    "rnn_unet_trainer.train_model()"
   ]
  },
  {
   "cell_type": "code",
   "execution_count": null,
   "metadata": {},
   "outputs": [],
   "source": [
    "test_label = label[1]\n",
    "print(test_label.shape)\n",
    "test_label = val_ds.decode_segmap(test_label.numpy()[0])\n",
    "# display the image\n",
    "plt.imshow(test_label)"
   ]
  },
  {
   "cell_type": "code",
   "execution_count": null,
   "metadata": {},
   "outputs": [],
   "source": [
    "def display_seq(seq):\n",
    "    for i in range(seq.shape[0]):\n",
    "        img = seq[i]\n",
    "        mean = torch.tensor([0.485, 0.456, 0.406]).view( 3, 1, 1)\n",
    "        std = torch.tensor([0.229, 0.224, 0.225]).view(3, 1, 1)\n",
    "        img = img * std + mean\n",
    "        img = img.cpu().permute(1, 2, 0).numpy()\n",
    "        plt.imshow(img)\n",
    "        # add number \n",
    "        plt.title(i)\n",
    "        plt.show()\n",
    "\n",
    "display_seq(img)"
   ]
  },
  {
   "cell_type": "code",
   "execution_count": null,
   "metadata": {},
   "outputs": [],
   "source": []
  }
 ],
 "metadata": {
  "kernelspec": {
   "display_name": "Python 3 (ipykernel)",
   "language": "python",
   "name": "python3"
  },
  "language_info": {
   "codemirror_mode": {
    "name": "ipython",
    "version": 3
   },
   "file_extension": ".py",
   "mimetype": "text/x-python",
   "name": "python",
   "nbconvert_exporter": "python",
   "pygments_lexer": "ipython3",
   "version": "3.10.9"
  }
 },
 "nbformat": 4,
 "nbformat_minor": 4
}

{
 "cells": [
  {
   "cell_type": "code",
   "execution_count": null,
   "metadata": {},
   "outputs": [],
   "source": [
    "import torch\n",
    "import torch.nn as nn\n",
    "import torchvision\n",
    "import torchvision.transforms as T\n",
    "# need ms coco api to get dataset\n",
    "from pycocotools import mask as mask\n",
    "import numpy as np\n",
    "import matplotlib.pyplot as plt\n",
    "# \"PYTHONPATH=. python .py\" to import when running\n",
    "import utils.utils\n",
    "import utils.train_eval\n",
    "\n",
    "import datasets.cityscapes_loader as cityscapes_loader\n",
    "import architectures.Temporal_UNET_Template as Temporal_UNET_Template\n",
    "from architectures.architecture_configs import *\n"
   ]
  },
  {
   "cell_type": "code",
   "execution_count": 1,
   "metadata": {
    "tags": []
   },
   "outputs": [],
   "source": [
    "utils.utils.set_random_seed()\n",
    "\n",
    "is_sequence = True\n",
    "\n",
    "dataset_root_dir = \"/home/nfs/inf6/data/datasets/cityscapes/\"\n",
    "\n",
    "train_ds = cityscapes_loader.cityscapesLoader(\n",
    "    root=dataset_root_dir, split='train', img_size=(512, 1024), is_transform=True, is_sequence=is_sequence\n",
    "    )\n",
    "val_ds = cityscapes_loader.cityscapesLoader(\n",
    "    root=dataset_root_dir, split='val', img_size=(512, 1024), is_transform=True, is_sequence=is_sequence\n",
    "    )\n",
    "\n"
   ]
  },
  {
   "cell_type": "code",
   "execution_count": null,
   "metadata": {},
   "outputs": [],
   "source": [
    "temp_unet_trainer.train_model()\n",
    "\n",
    "train_loader = torch.utils.data.DataLoader(train_ds, batch_size=1, shuffle=True, drop_last=True)\n",
    "valid_loader = torch.utils.data.DataLoader(val_ds, batch_size=1, shuffle=False, drop_last=True)\n",
    "\n",
    "encoder_blocks = SmallShallow_NetworkSize.encoder_blocks\n",
    "decoder_blocks = SmallShallow_NetworkSize.decoder_blocks\n",
    "\n",
    "config = Temporal_ResUNetConfig(\n",
    "    encoder_blocks=encoder_blocks,\n",
    "    decoder_blocks=decoder_blocks,\n",
    "    temporal_cell= Conv2dGRUCell\n",
    "    )\n",
    "\n",
    "temp_unet = Temporal_UNET_Template.Temporal_UNet(config)\n",
    "\n",
    "temp_unet_optim = torch.optim.Adam(temp_unet.parameters(), lr=3e-4)\n",
    "criterion = nn.CrossEntropyLoss()\n",
    "\n",
    "\n",
    "epochs=85\n",
    "temp_unet_trainer = utils.train_eval.Trainer(\n",
    "        temp_unet, temp_unet_optim, criterion,\n",
    "        train_loader, valid_loader, \"cityscapes\", epochs,\n",
    "        sequence=True, all_labels=20, start_epoch=15)\n",
    "\n",
    "# temp_unet_trainer.save_model(0)\n",
    "\n",
    "load_model = True\n",
    "if load_model:\n",
    "    temp_unet_trainer.load_model(\"cityscapes\")\n",
    "\n"
   ]
  },
  {
   "cell_type": "code",
   "execution_count": null,
   "metadata": {},
   "outputs": [],
   "source": []
  },
  {
   "cell_type": "code",
   "execution_count": null,
   "metadata": {},
   "outputs": [],
   "source": []
  }
 ],
 "metadata": {
  "kernelspec": {
   "display_name": "Python 3 (ipykernel)",
   "language": "python",
   "name": "python3"
  },
  "language_info": {
   "codemirror_mode": {
    "name": "ipython",
    "version": 3
   },
   "file_extension": ".py",
   "mimetype": "text/x-python",
   "name": "python",
   "nbconvert_exporter": "python",
   "pygments_lexer": "ipython3",
   "version": "3.10.9"
  }
 },
 "nbformat": 4,
 "nbformat_minor": 4
}

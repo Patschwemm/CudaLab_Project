{
 "cells": [
  {
   "cell_type": "code",
   "execution_count": 1,
   "metadata": {
    "tags": []
   },
   "outputs": [],
   "source": [
    "import sys\n",
    "import torch\n",
    "import torch.nn as nn\n",
    "import torchvision\n",
    "import torchvision.transforms as T\n",
    "# need ms coco api to get dataset\n",
    "from pycocotools import mask as mask\n",
    "import numpy as np\n",
    "import matplotlib.pyplot as plt\n",
    "sys.path.insert(0, \"../utils\")\n",
    "import utils\n",
    "import train_eval"
   ]
  },
  {
   "cell_type": "code",
   "execution_count": 2,
   "metadata": {
    "tags": []
   },
   "outputs": [],
   "source": [
    "utils.set_random_seed()"
   ]
  },
  {
   "cell_type": "code",
   "execution_count": 3,
   "metadata": {
    "tags": []
   },
   "outputs": [
    {
     "name": "stdout",
     "output_type": "stream",
     "text": [
      "loading annotations into memory...\n",
      "Done (t=10.41s)\n",
      "creating index...\n",
      "index created!\n",
      "loading annotations into memory...\n",
      "Done (t=0.35s)\n",
      "creating index...\n",
      "index created!\n"
     ]
    }
   ],
   "source": [
    "import coco_dataset\n",
    "import importlib\n",
    "importlib.reload(coco_dataset)\n",
    "\n",
    "# path to MS COCO dataset\n",
    "train_data_dir = '/home/nfs/inf6/data/datasets/coco/train2017'\n",
    "val_data_dir = '/home/nfs/inf6/data/datasets/coco/val2017'\n",
    "\n",
    "\n",
    "# initialize COCO API for segmentation\n",
    "train_ann_file = '/home/nfs/inf6/data/datasets/coco/annotations/instances_train2017.json'\n",
    "val_ann_file = '/home/nfs/inf6/data/datasets/coco/annotations/instances_val2017.json'\n",
    "\n",
    "\n",
    "# make dataset, default transforms is resizing and to tensor\n",
    "train_set = coco_dataset.Coco_Dataset(train_data_dir, train_ann_file, mode=\"segmentation\")\n",
    "val_set = coco_dataset.Coco_Dataset(val_data_dir, val_ann_file, mode=\"segmentation\")\n",
    "\n",
    "batch_size = 16\n",
    "train_loader = torch.utils.data.DataLoader(train_set, batch_size=batch_size, shuffle=True)\n",
    "valid_loader = torch.utils.data.DataLoader(val_set, batch_size=batch_size, shuffle=False)"
   ]
  },
  {
   "cell_type": "code",
   "execution_count": 4,
   "metadata": {
    "tags": []
   },
   "outputs": [
    {
     "data": {
      "text/plain": [
       "torch.Size([1, 256, 256])"
      ]
     },
     "execution_count": 4,
     "metadata": {},
     "output_type": "execute_result"
    }
   ],
   "source": [
    "img, seg_mask = train_set[0]\n",
    "seg_mask.shape"
   ]
  },
  {
   "cell_type": "code",
   "execution_count": 9,
   "metadata": {
    "tags": []
   },
   "outputs": [
    {
     "name": "stdout",
     "output_type": "stream",
     "text": [
      "91 [[512, 256, 256], [256, 128, 128], [128, 64, 64]] False True\n"
     ]
    }
   ],
   "source": [
    "import UNet_Template\n",
    "import importlib\n",
    "importlib.reload(UNet_Template)\n",
    "\n",
    "config = UNet_Template.RNN_UNetConfig()\n",
    "\n",
    "rnn_unet = UNet_Template.RNN_UNet(config)\n",
    "\n",
    "rnn_unet_optim = torch.optim.Adam(rnn_unet.parameters(), lr=3e-4)\n",
    "\n",
    "criterion = nn.CrossEntropyLoss()"
   ]
  },
  {
   "cell_type": "code",
   "execution_count": 16,
   "metadata": {
    "tags": []
   },
   "outputs": [
    {
     "name": "stdout",
     "output_type": "stream",
     "text": [
      "/home/user/schwemme/CudaLab_Project/src/tboard_logs/RNN_UNet\n"
     ]
    }
   ],
   "source": [
    "importlib.reload(train_eval)\n",
    "\n",
    "epochs=10\n",
    "rnn_unet_trainer = train_eval.Trainer(\n",
    "    rnn_unet, rnn_unet_optim, criterion, train_loader, valid_loader, \"coco\", epochs, sequence=False, all_labels=91, start_epoch=10)"
   ]
  },
  {
   "cell_type": "code",
   "execution_count": 17,
   "metadata": {
    "tags": []
   },
   "outputs": [],
   "source": [
    "rnn_unet_trainer.load_model()"
   ]
  },
  {
   "cell_type": "code",
   "execution_count": 18,
   "metadata": {
    "tags": []
   },
   "outputs": [
    {
     "name": "stdout",
     "output_type": "stream",
     "text": [
      "torch.Size([16, 1, 91, 256, 256]) torch.Size([16, 1, 256, 256])\n",
      "torch.Size([16, 1, 91, 256, 256])\n",
      "torch.Size([16, 91, 256, 256]) torch.Size([16, 256, 256])\n",
      "torch.Size([16, 1, 91, 256, 256])\n",
      "tensor([ 0,  1,  2,  3,  4,  6,  7,  8, 11, 13, 16, 17, 18, 19, 20, 21, 22, 23,\n",
      "        24, 35, 38, 43, 44, 47, 51, 52, 53, 54, 55, 56, 59, 60, 61, 62, 63, 64,\n",
      "        65, 67, 70, 72, 73, 76, 82, 84, 85, 86, 88], device='cuda:0')\n",
      "torch.Size([16, 1, 91, 256, 256]) torch.Size([16, 1, 256, 256])\n",
      "torch.Size([16, 1, 91, 256, 256])\n",
      "torch.Size([16, 91, 256, 256]) torch.Size([16, 256, 256])\n",
      "torch.Size([16, 1, 91, 256, 256])\n",
      "tensor([ 0,  1,  2,  3,  4,  5,  6,  7,  8,  9, 10, 11, 16, 17, 18, 19, 20, 21,\n",
      "        22, 23, 24, 25, 28, 33, 38, 39, 43, 44, 46, 47, 51, 52, 53, 54, 56, 59,\n",
      "        60, 65, 67, 70, 73, 76, 85, 86, 88], device='cuda:0')\n",
      "torch.Size([16, 1, 91, 256, 256]) torch.Size([16, 1, 256, 256])\n",
      "torch.Size([16, 1, 91, 256, 256])\n",
      "torch.Size([16, 91, 256, 256]) torch.Size([16, 256, 256])\n",
      "torch.Size([16, 1, 91, 256, 256])\n",
      "tensor([ 0,  1,  3,  4,  5, 17, 18, 19, 20, 21, 22, 23, 24, 25, 28, 33, 43, 44,\n",
      "        47, 51, 52, 53, 54, 55, 56, 58, 59, 60, 62, 63, 65, 67, 70, 73, 76, 77,\n",
      "        79, 85, 86, 88], device='cuda:0')\n",
      "torch.Size([16, 1, 91, 256, 256]) torch.Size([16, 1, 256, 256])\n",
      "torch.Size([16, 1, 91, 256, 256])\n",
      "torch.Size([16, 91, 256, 256]) torch.Size([16, 256, 256])\n",
      "torch.Size([16, 1, 91, 256, 256])\n",
      "tensor([ 0,  1,  2,  3,  4,  5,  6,  7,  8, 10, 11, 13, 14, 17, 18, 19, 20, 21,\n",
      "        22, 23, 24, 28, 33, 34, 37, 38, 42, 44, 47, 51, 52, 53, 55, 56, 57, 58,\n",
      "        59, 60, 65, 67, 70, 73, 76, 81, 85, 88], device='cuda:0')\n",
      "torch.Size([16, 1, 91, 256, 256]) torch.Size([16, 1, 256, 256])\n",
      "torch.Size([16, 1, 91, 256, 256])\n",
      "torch.Size([16, 91, 256, 256]) torch.Size([16, 256, 256])\n",
      "torch.Size([16, 1, 91, 256, 256])\n",
      "tensor([ 0,  1,  2,  3,  4,  5,  6,  7,  8, 10, 11, 13, 14, 17, 18, 19, 20, 21,\n",
      "        22, 23, 24, 25, 28, 33, 34, 37, 38, 42, 44, 47, 51, 53, 56, 63, 65, 67,\n",
      "        70, 85, 86, 88], device='cuda:0')\n",
      "torch.Size([16, 1, 91, 256, 256]) torch.Size([16, 1, 256, 256])\n",
      "torch.Size([16, 1, 91, 256, 256])\n",
      "torch.Size([16, 91, 256, 256]) torch.Size([16, 256, 256])\n",
      "torch.Size([16, 1, 91, 256, 256])\n",
      "tensor([ 0,  1,  3,  4,  5,  6,  8, 10, 13, 17, 18, 19, 20, 21, 22, 23, 24, 25,\n",
      "        28, 33, 38, 43, 44, 46, 47, 48, 51, 52, 53, 54, 55, 56, 57, 58, 59, 60,\n",
      "        61, 62, 63, 65, 67, 70, 72, 73, 75, 76, 77, 85, 88], device='cuda:0')\n",
      "torch.Size([16, 1, 91, 256, 256]) torch.Size([16, 1, 256, 256])\n",
      "torch.Size([16, 1, 91, 256, 256])\n",
      "torch.Size([16, 91, 256, 256]) torch.Size([16, 256, 256])\n",
      "torch.Size([16, 1, 91, 256, 256])\n",
      "tensor([ 0,  1,  2,  3,  4,  5,  6,  7,  8, 10, 11, 13, 17, 18, 19, 20, 21, 22,\n",
      "        23, 24, 28, 43, 46, 47, 51, 52, 53, 54, 56, 58, 59, 60, 61, 62, 63, 64,\n",
      "        65, 67, 70, 72, 73, 81, 85, 86, 88], device='cuda:0')\n",
      "torch.Size([16, 1, 91, 256, 256]) torch.Size([16, 1, 256, 256])\n",
      "torch.Size([16, 1, 91, 256, 256])\n",
      "torch.Size([16, 91, 256, 256]) torch.Size([16, 256, 256])\n",
      "torch.Size([16, 1, 91, 256, 256])\n",
      "tensor([ 0,  1,  2,  3,  4,  5,  6, 10, 11, 13, 14, 17, 18, 19, 20, 21, 22, 23,\n",
      "        24, 25, 28, 33, 35, 38, 42, 43, 44, 46, 47, 51, 52, 53, 54, 59, 60, 62,\n",
      "        63, 65, 67, 70, 72, 73, 75, 76, 77, 81, 85, 86, 88], device='cuda:0')\n",
      "torch.Size([16, 1, 91, 256, 256]) torch.Size([16, 1, 256, 256])\n",
      "torch.Size([16, 1, 91, 256, 256])\n",
      "torch.Size([16, 91, 256, 256]) torch.Size([16, 256, 256])\n",
      "torch.Size([16, 1, 91, 256, 256])\n",
      "tensor([ 0,  1,  2,  3,  4,  5,  6,  7,  8,  9, 10, 11, 13, 17, 18, 19, 21, 22,\n",
      "        23, 24, 25, 28, 34, 37, 38, 42, 43, 44, 47, 51, 52, 53, 54, 56, 59, 60,\n",
      "        62, 63, 64, 65, 67, 70, 73, 85, 86, 88], device='cuda:0')\n"
     ]
    },
    {
     "ename": "KeyboardInterrupt",
     "evalue": "",
     "output_type": "error",
     "traceback": [
      "\u001b[0;31m---------------------------------------------------------------------------\u001b[0m",
      "\u001b[0;31mKeyboardInterrupt\u001b[0m                         Traceback (most recent call last)",
      "Cell \u001b[0;32mIn[18], line 1\u001b[0m\n\u001b[0;32m----> 1\u001b[0m rnn_unet_trainer\u001b[39m.\u001b[39;49mtrain_model()\n",
      "File \u001b[0;32m~/CudaLab_Project/src/../utils/train_eval.py:148\u001b[0m, in \u001b[0;36mTrainer.train_model\u001b[0;34m(self)\u001b[0m\n\u001b[1;32m    144\u001b[0m \u001b[39mfor\u001b[39;00m epoch \u001b[39min\u001b[39;00m \u001b[39mrange\u001b[39m(\u001b[39mself\u001b[39m\u001b[39m.\u001b[39mepochs):\n\u001b[1;32m    145\u001b[0m     \n\u001b[1;32m    146\u001b[0m     \u001b[39m# validation epoch\u001b[39;00m\n\u001b[1;32m    147\u001b[0m     \u001b[39mself\u001b[39m\u001b[39m.\u001b[39mmodel\u001b[39m.\u001b[39meval()  \u001b[39m# important for dropout and batch norms\u001b[39;00m\n\u001b[0;32m--> 148\u001b[0m     mIoU, loss \u001b[39m=\u001b[39m \u001b[39mself\u001b[39;49m\u001b[39m.\u001b[39;49meval_model()\n\u001b[1;32m    149\u001b[0m     \u001b[39mself\u001b[39m\u001b[39m.\u001b[39mvalid_mIoU\u001b[39m.\u001b[39mappend(mIoU)\n\u001b[1;32m    150\u001b[0m     \u001b[39mself\u001b[39m\u001b[39m.\u001b[39mval_loss\u001b[39m.\u001b[39mappend(loss)\n",
      "File \u001b[0;32m~/miniconda3/envs/cuda/lib/python3.10/site-packages/torch/autograd/grad_mode.py:27\u001b[0m, in \u001b[0;36m_DecoratorContextManager.__call__.<locals>.decorate_context\u001b[0;34m(*args, **kwargs)\u001b[0m\n\u001b[1;32m     24\u001b[0m \u001b[39m@functools\u001b[39m\u001b[39m.\u001b[39mwraps(func)\n\u001b[1;32m     25\u001b[0m \u001b[39mdef\u001b[39;00m \u001b[39mdecorate_context\u001b[39m(\u001b[39m*\u001b[39margs, \u001b[39m*\u001b[39m\u001b[39m*\u001b[39mkwargs):\n\u001b[1;32m     26\u001b[0m     \u001b[39mwith\u001b[39;00m \u001b[39mself\u001b[39m\u001b[39m.\u001b[39mclone():\n\u001b[0;32m---> 27\u001b[0m         \u001b[39mreturn\u001b[39;00m func(\u001b[39m*\u001b[39;49margs, \u001b[39m*\u001b[39;49m\u001b[39m*\u001b[39;49mkwargs)\n",
      "File \u001b[0;32m~/CudaLab_Project/src/../utils/train_eval.py:127\u001b[0m, in \u001b[0;36mTrainer.eval_model\u001b[0;34m(self)\u001b[0m\n\u001b[1;32m    124\u001b[0m     labels \u001b[39m=\u001b[39m labels\u001b[39m.\u001b[39msqueeze()\u001b[39m.\u001b[39mview(\u001b[39m-\u001b[39m\u001b[39m1\u001b[39m)\n\u001b[1;32m    126\u001b[0m     \u001b[39mif\u001b[39;00m \u001b[39mself\u001b[39m\u001b[39m.\u001b[39mall_labels\u001b[39m!=\u001b[39m \u001b[39mNone\u001b[39;00m:\n\u001b[0;32m--> 127\u001b[0m         \u001b[39mself\u001b[39m\u001b[39m.\u001b[39mconf_mat \u001b[39m+\u001b[39m\u001b[39m=\u001b[39m confusion_matrix(\n\u001b[1;32m    128\u001b[0m             y_true\u001b[39m=\u001b[39;49mlabels\u001b[39m.\u001b[39;49mcpu()\u001b[39m.\u001b[39;49mnumpy(), y_pred\u001b[39m=\u001b[39;49mpreds\u001b[39m.\u001b[39;49mcpu()\u001b[39m.\u001b[39;49mnumpy(), \n\u001b[1;32m    129\u001b[0m             labels\u001b[39m=\u001b[39;49mnp\u001b[39m.\u001b[39;49marange(\u001b[39m0\u001b[39;49m, \u001b[39mself\u001b[39;49m\u001b[39m.\u001b[39;49mall_labels, \u001b[39m1\u001b[39;49m)\n\u001b[1;32m    130\u001b[0m         )\n\u001b[1;32m    132\u001b[0m iou \u001b[39m=\u001b[39m \u001b[39mself\u001b[39m\u001b[39m.\u001b[39mconf_mat\u001b[39m.\u001b[39mdiag() \u001b[39m/\u001b[39m (\u001b[39mself\u001b[39m\u001b[39m.\u001b[39mconf_mat\u001b[39m.\u001b[39msum(axis\u001b[39m=\u001b[39m\u001b[39m1\u001b[39m) \u001b[39m+\u001b[39m \u001b[39mself\u001b[39m\u001b[39m.\u001b[39mconf_mat\u001b[39m.\u001b[39msum(axis\u001b[39m=\u001b[39m\u001b[39m0\u001b[39m) \u001b[39m-\u001b[39m \u001b[39mself\u001b[39m\u001b[39m.\u001b[39mconf_mat\u001b[39m.\u001b[39mdiag() \u001b[39m+\u001b[39m epsilon)\n\u001b[1;32m    133\u001b[0m mIoU \u001b[39m=\u001b[39m iou\u001b[39m.\u001b[39mmean()\n",
      "File \u001b[0;32m~/miniconda3/envs/cuda/lib/python3.10/site-packages/sklearn/metrics/_classification.py:375\u001b[0m, in \u001b[0;36mconfusion_matrix\u001b[0;34m(y_true, y_pred, labels, sample_weight, normalize)\u001b[0m\n\u001b[1;32m    368\u001b[0m \u001b[39melse\u001b[39;00m:\n\u001b[1;32m    369\u001b[0m     dtype \u001b[39m=\u001b[39m np\u001b[39m.\u001b[39mfloat64\n\u001b[1;32m    371\u001b[0m cm \u001b[39m=\u001b[39m coo_matrix(\n\u001b[1;32m    372\u001b[0m     (sample_weight, (y_true, y_pred)),\n\u001b[1;32m    373\u001b[0m     shape\u001b[39m=\u001b[39;49m(n_labels, n_labels),\n\u001b[1;32m    374\u001b[0m     dtype\u001b[39m=\u001b[39;49mdtype,\n\u001b[0;32m--> 375\u001b[0m )\u001b[39m.\u001b[39;49mtoarray()\n\u001b[1;32m    377\u001b[0m \u001b[39mwith\u001b[39;00m np\u001b[39m.\u001b[39merrstate(\u001b[39mall\u001b[39m\u001b[39m=\u001b[39m\u001b[39m\"\u001b[39m\u001b[39mignore\u001b[39m\u001b[39m\"\u001b[39m):\n\u001b[1;32m    378\u001b[0m     \u001b[39mif\u001b[39;00m normalize \u001b[39m==\u001b[39m \u001b[39m\"\u001b[39m\u001b[39mtrue\u001b[39m\u001b[39m\"\u001b[39m:\n",
      "File \u001b[0;32m~/miniconda3/envs/cuda/lib/python3.10/site-packages/scipy/sparse/_coo.py:327\u001b[0m, in \u001b[0;36mcoo_matrix.toarray\u001b[0;34m(self, order, out)\u001b[0m\n\u001b[1;32m    325\u001b[0m     \u001b[39mraise\u001b[39;00m \u001b[39mValueError\u001b[39;00m(\u001b[39m\"\u001b[39m\u001b[39mOutput array must be C or F contiguous\u001b[39m\u001b[39m\"\u001b[39m)\n\u001b[1;32m    326\u001b[0m M,N \u001b[39m=\u001b[39m \u001b[39mself\u001b[39m\u001b[39m.\u001b[39mshape\n\u001b[0;32m--> 327\u001b[0m coo_todense(M, N, \u001b[39mself\u001b[39;49m\u001b[39m.\u001b[39;49mnnz, \u001b[39mself\u001b[39;49m\u001b[39m.\u001b[39;49mrow, \u001b[39mself\u001b[39;49m\u001b[39m.\u001b[39;49mcol, \u001b[39mself\u001b[39;49m\u001b[39m.\u001b[39;49mdata,\n\u001b[1;32m    328\u001b[0m             B\u001b[39m.\u001b[39;49mravel(\u001b[39m'\u001b[39;49m\u001b[39mA\u001b[39;49m\u001b[39m'\u001b[39;49m), fortran)\n\u001b[1;32m    329\u001b[0m \u001b[39mreturn\u001b[39;00m B\n",
      "\u001b[0;31mKeyboardInterrupt\u001b[0m: "
     ]
    }
   ],
   "source": [
    "rnn_unet_trainer.train_model()"
   ]
  },
  {
   "cell_type": "code",
   "execution_count": null,
   "metadata": {},
   "outputs": [],
   "source": []
  },
  {
   "cell_type": "code",
   "execution_count": null,
   "metadata": {},
   "outputs": [],
   "source": [
    "city_home = \"/home/nfs/inf6/data/datasets/cityscapes\"\n",
    "\n",
    "cityscapes_train = torchvision.datasets.Cityscapes(root=city_home, split=\"train\", mode=\"coarse\", target_type=\"semantic\")\n",
    "cityscapes_test = torchvision.datasets.Cityscapes(root=city_home, split=\"train_extra\", mode=\"coarse\", target_type=\"semantic\")\n",
    "cityscapes_valid = torchvision.datasets.Cityscapes(root=city_home, split=\"val\", mode=\"coarse\", target_type=\"semantic\")\n"
   ]
  },
  {
   "cell_type": "code",
   "execution_count": null,
   "metadata": {},
   "outputs": [],
   "source": [
    "img, label_dict = train_set[6]\n",
    "masks = label_dict[\"masks\"]\n",
    "labels = label_dict[\"labels\"]\n",
    "seg_mask = label_dict[\"segmentation_mask\"]\n",
    "\n",
    "_, ax = plt.subplots(1, 2)\n",
    "\n",
    "ax[0].imshow(img.permute(1, 2, 0), cmap=\"gray\")\n",
    "ax[1].imshow(seg_mask.squeeze(), cmap=\"gray\")\n",
    "\n",
    "_, x = plt.subplots(1, len(masks), figsize=(20,20))\n",
    "for i in range(len(masks)):\n",
    "    mask = masks[i]\n",
    "    idx = mask == 0\n",
    "    mask[mask == 0] = 100\n",
    "    x[i].imshow(mask, cmap=\"gray\")\n",
    "\n"
   ]
  }
 ],
 "metadata": {
  "kernelspec": {
   "display_name": "Python 3 (ipykernel)",
   "language": "python",
   "name": "python3"
  },
  "language_info": {
   "codemirror_mode": {
    "name": "ipython",
    "version": 3
   },
   "file_extension": ".py",
   "mimetype": "text/x-python",
   "name": "python",
   "nbconvert_exporter": "python",
   "pygments_lexer": "ipython3",
   "version": "3.10.9"
  },
  "vscode": {
   "interpreter": {
    "hash": "a3c029b62e9af0c14c8d20940fd275a7433002acd075126a9d5c47011a54832f"
   }
  }
 },
 "nbformat": 4,
 "nbformat_minor": 4
}

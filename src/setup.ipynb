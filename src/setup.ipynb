{
 "cells": [
  {
   "cell_type": "code",
   "execution_count": 1,
   "metadata": {},
   "outputs": [],
   "source": [
    "import torch\n",
    "import torch.nn as nn\n",
    "import torchvision\n",
    "import torchvision.transforms as F \n",
    "# need ms coco api to get dataset\n",
    "from pycocotools import mask as mask\n",
    "import numpy as np\n",
    "import matplotlib.pyplot as plt"
   ]
  },
  {
   "cell_type": "code",
   "execution_count": 2,
   "metadata": {},
   "outputs": [],
   "source": [
    "import UNet_Template\n",
    "import importlib\n",
    "importlib.reload(UNet_Template)\n",
    "\n",
    "config = UNet_Template.RNN_UNetConfig()\n",
    "\n",
    "rnn_unet = UNet_Template.RNN_UNet(config)"
   ]
  },
  {
   "cell_type": "code",
   "execution_count": 3,
   "metadata": {},
   "outputs": [
    {
     "name": "stdout",
     "output_type": "stream",
     "text": [
      "RNN_UNet(\n",
      "  (encoder): RNN_UNetEncoder(\n",
      "    (in_block): ConvBlock(\n",
      "      (0): ConvWithNorm(\n",
      "        (conv): Conv2d(3, 64, kernel_size=(3, 3), stride=(1, 1), padding=(1, 1))\n",
      "        (norm): Identity()\n",
      "        (activation): ReLU(inplace=True)\n",
      "      )\n",
      "      (1): ConvWithNorm(\n",
      "        (conv): Conv2d(64, 64, kernel_size=(3, 3), stride=(1, 1), padding=(1, 1))\n",
      "        (norm): Identity()\n",
      "        (activation): ReLU(inplace=True)\n",
      "      )\n",
      "    )\n",
      "    (downsample_blocks): ModuleList(\n",
      "      (0): DownsampleBlock(\n",
      "        (downsampling): Conv2d(64, 64, kernel_size=(2, 2), stride=(2, 2))\n",
      "        (conv_block): ConvBlock(\n",
      "          (0): ConvWithNorm(\n",
      "            (conv): Conv2d(64, 128, kernel_size=(3, 3), stride=(1, 1), padding=(1, 1))\n",
      "            (norm): Identity()\n",
      "            (activation): ReLU(inplace=True)\n",
      "          )\n",
      "          (1): ConvWithNorm(\n",
      "            (conv): Conv2d(128, 128, kernel_size=(3, 3), stride=(1, 1), padding=(1, 1))\n",
      "            (norm): Identity()\n",
      "            (activation): ReLU(inplace=True)\n",
      "          )\n",
      "        )\n",
      "      )\n",
      "      (1): DownsampleBlock(\n",
      "        (downsampling): Conv2d(128, 128, kernel_size=(2, 2), stride=(2, 2))\n",
      "        (conv_block): ConvBlock(\n",
      "          (0): ConvWithNorm(\n",
      "            (conv): Conv2d(128, 256, kernel_size=(3, 3), stride=(1, 1), padding=(1, 1))\n",
      "            (norm): Identity()\n",
      "            (activation): ReLU(inplace=True)\n",
      "          )\n",
      "          (1): ConvWithNorm(\n",
      "            (conv): Conv2d(256, 256, kernel_size=(3, 3), stride=(1, 1), padding=(1, 1))\n",
      "            (norm): Identity()\n",
      "            (activation): ReLU(inplace=True)\n",
      "          )\n",
      "        )\n",
      "      )\n",
      "    )\n",
      "    (conv_rnn): ModuleList(\n",
      "      (0): Conv2dRNNCell(\n",
      "        (act_fn): ReLU()\n",
      "      )\n",
      "      (1): Conv2dRNNCell(\n",
      "        (act_fn): ReLU()\n",
      "      )\n",
      "      (2): Conv2dRNNCell(\n",
      "        (act_fn): ReLU()\n",
      "      )\n",
      "    )\n",
      "  )\n",
      "  (decoder): RNN_UNetDecoder(\n",
      "    (in_block): ConvBlock(\n",
      "      (0): ConvWithNorm(\n",
      "        (conv): Conv2d(512, 256, kernel_size=(3, 3), stride=(1, 1), padding=(1, 1))\n",
      "        (norm): Identity()\n",
      "        (activation): ReLU(inplace=True)\n",
      "      )\n",
      "      (1): ConvWithNorm(\n",
      "        (conv): Conv2d(256, 256, kernel_size=(3, 3), stride=(1, 1), padding=(1, 1))\n",
      "        (norm): Identity()\n",
      "        (activation): ReLU(inplace=True)\n",
      "      )\n",
      "    )\n",
      "    (upsample_blocks): ModuleList(\n",
      "      (0): UpsampleBlock(\n",
      "        (upsample): ConvTranspose2d(256, 128, kernel_size=(2, 2), stride=(2, 2))\n",
      "        (conv_block): ConvBlock(\n",
      "          (0): ConvWithNorm(\n",
      "            (conv): Conv2d(256, 128, kernel_size=(3, 3), stride=(1, 1), padding=(1, 1))\n",
      "            (norm): Identity()\n",
      "            (activation): ReLU(inplace=True)\n",
      "          )\n",
      "          (1): ConvWithNorm(\n",
      "            (conv): Conv2d(128, 128, kernel_size=(3, 3), stride=(1, 1), padding=(1, 1))\n",
      "            (norm): Identity()\n",
      "            (activation): ReLU(inplace=True)\n",
      "          )\n",
      "        )\n",
      "      )\n",
      "      (1): UpsampleBlock(\n",
      "        (upsample): ConvTranspose2d(128, 64, kernel_size=(2, 2), stride=(2, 2))\n",
      "        (conv_block): ConvBlock(\n",
      "          (0): ConvWithNorm(\n",
      "            (conv): Conv2d(128, 64, kernel_size=(3, 3), stride=(1, 1), padding=(1, 1))\n",
      "            (norm): Identity()\n",
      "            (activation): ReLU(inplace=True)\n",
      "          )\n",
      "          (1): ConvWithNorm(\n",
      "            (conv): Conv2d(64, 64, kernel_size=(3, 3), stride=(1, 1), padding=(1, 1))\n",
      "            (norm): Identity()\n",
      "            (activation): ReLU(inplace=True)\n",
      "          )\n",
      "        )\n",
      "      )\n",
      "    )\n",
      "    (out_block): Conv2d(64, 2, kernel_size=(3, 3), stride=(1, 1), padding=(1, 1))\n",
      "  )\n",
      ")\n"
     ]
    }
   ],
   "source": [
    "print(rnn_unet)"
   ]
  },
  {
   "cell_type": "code",
   "execution_count": 2,
   "metadata": {},
   "outputs": [
    {
     "name": "stdout",
     "output_type": "stream",
     "text": [
      "loading annotations into memory...\n",
      "Done (t=14.12s)\n",
      "creating index...\n",
      "index created!\n"
     ]
    }
   ],
   "source": [
    "import coco_dataset\n",
    "import importlib\n",
    "importlib.reload(coco_dataset)\n",
    "\n",
    "# path to MS COCO dataset\n",
    "data_dir = '/home/nfs/inf6/data/datasets/coco/train2017'\n",
    "\n",
    "# initialize COCO API for segmentation\n",
    "ann_file = '/home/nfs/inf6/data/datasets/coco/annotations/instances_train2017.json'\n",
    "\n",
    "dataset = coco_dataset.Coco_Dataset(data_dir, ann_file)"
   ]
  },
  {
   "cell_type": "code",
   "execution_count": 3,
   "metadata": {},
   "outputs": [
    {
     "data": {
      "text/plain": [
       "(<PIL.JpegImagePlugin.JpegImageFile image mode=RGB size=640x480>,\n",
       " {'masks': tensor([[[0, 0, 0,  ..., 0, 0, 0],\n",
       "           [0, 0, 0,  ..., 0, 0, 0],\n",
       "           [0, 0, 0,  ..., 0, 0, 0],\n",
       "           ...,\n",
       "           [0, 0, 0,  ..., 0, 0, 0],\n",
       "           [0, 0, 0,  ..., 0, 0, 0],\n",
       "           [0, 0, 0,  ..., 0, 0, 0]],\n",
       "  \n",
       "          [[0, 0, 0,  ..., 0, 0, 0],\n",
       "           [0, 0, 0,  ..., 0, 0, 0],\n",
       "           [0, 0, 0,  ..., 0, 0, 0],\n",
       "           ...,\n",
       "           [0, 0, 0,  ..., 0, 0, 0],\n",
       "           [0, 0, 0,  ..., 0, 0, 0],\n",
       "           [0, 0, 0,  ..., 0, 0, 0]],\n",
       "  \n",
       "          [[0, 0, 0,  ..., 0, 0, 0],\n",
       "           [0, 0, 0,  ..., 0, 0, 0],\n",
       "           [0, 0, 0,  ..., 0, 0, 0],\n",
       "           ...,\n",
       "           [0, 0, 0,  ..., 0, 0, 0],\n",
       "           [0, 0, 0,  ..., 0, 0, 0],\n",
       "           [0, 0, 0,  ..., 0, 0, 0]],\n",
       "  \n",
       "          ...,\n",
       "  \n",
       "          [[0, 0, 0,  ..., 0, 0, 0],\n",
       "           [0, 0, 0,  ..., 0, 0, 0],\n",
       "           [0, 0, 0,  ..., 0, 0, 0],\n",
       "           ...,\n",
       "           [0, 0, 0,  ..., 0, 0, 0],\n",
       "           [0, 0, 0,  ..., 0, 0, 0],\n",
       "           [0, 0, 0,  ..., 0, 0, 0]],\n",
       "  \n",
       "          [[0, 0, 0,  ..., 0, 0, 0],\n",
       "           [0, 0, 0,  ..., 0, 0, 0],\n",
       "           [0, 0, 0,  ..., 0, 0, 0],\n",
       "           ...,\n",
       "           [0, 0, 0,  ..., 0, 0, 0],\n",
       "           [0, 0, 0,  ..., 0, 0, 0],\n",
       "           [0, 0, 0,  ..., 0, 0, 0]],\n",
       "  \n",
       "          [[0, 0, 0,  ..., 0, 0, 0],\n",
       "           [0, 0, 0,  ..., 0, 0, 0],\n",
       "           [0, 0, 0,  ..., 0, 0, 0],\n",
       "           ...,\n",
       "           [0, 0, 0,  ..., 0, 0, 0],\n",
       "           [0, 0, 0,  ..., 0, 0, 0],\n",
       "           [0, 0, 0,  ..., 0, 0, 0]]], dtype=torch.uint8),\n",
       "  'labels': tensor([51, 51, 56, 51, 55, 55, 55, 55])})"
      ]
     },
     "execution_count": 3,
     "metadata": {},
     "output_type": "execute_result"
    }
   ],
   "source": [
    "dataset[0]"
   ]
  },
  {
   "cell_type": "code",
   "execution_count": null,
   "metadata": {},
   "outputs": [],
   "source": [
    "city_home = \"/home/nfs/inf6/data/datasets/cityscapes\"\n",
    "\n",
    "cityscapes_train = torchvision.datasets.Cityscapes(root=city_home, split=\"train\", mode=\"coarse\", target_type=\"semantic\")\n",
    "cityscapes_test = torchvision.datasets.Cityscapes(root=city_home, split=\"train_extra\", mode=\"coarse\", target_type=\"semantic\")\n",
    "cityscapes_valid = torchvision.datasets.Cityscapes(root=city_home, split=\"val\", mode=\"coarse\", target_type=\"semantic\")\n"
   ]
  },
  {
   "cell_type": "code",
   "execution_count": 12,
   "metadata": {},
   "outputs": [
    {
     "name": "stdout",
     "output_type": "stream",
     "text": [
      "2975\n",
      "19998\n",
      "500\n"
     ]
    }
   ],
   "source": [
    "print(len(cityscapes_train ))\n",
    "print(len(cityscapes_valid ))\n",
    "print(len(cityscapes_test ))"
   ]
  },
  {
   "cell_type": "code",
   "execution_count": 1,
   "metadata": {},
   "outputs": [
    {
     "ename": "SyntaxError",
     "evalue": "unmatched ']' (UNet_Template.py, line 14)",
     "output_type": "error",
     "traceback": [
      "Traceback \u001b[0;36m(most recent call last)\u001b[0m:\n",
      "\u001b[0m  File \u001b[1;32m~/miniconda3/envs/cuda/lib/python3.10/site-packages/IPython/core/interactiveshell.py:3460\u001b[0m in \u001b[1;35mrun_code\u001b[0m\n    exec(code_obj, self.user_global_ns, self.user_ns)\u001b[0m\n",
      "\u001b[0;36m  Cell \u001b[0;32mIn[1], line 1\u001b[0;36m\n\u001b[0;31m    from UNet_Template import RNN_UNetConfig, RNN_UNet\u001b[0;36m\n",
      "\u001b[0;36m  File \u001b[0;32m~/CudaLab_Project/src/UNet_Template.py:14\u001b[0;36m\u001b[0m\n\u001b[0;31m    encoder_blocks: list[list[int]] = [[3, 64, 64], [64, 128, 128], [128, 256, 256]]],\u001b[0m\n\u001b[0m                                                                                    ^\u001b[0m\n\u001b[0;31mSyntaxError\u001b[0m\u001b[0;31m:\u001b[0m unmatched ']'\n"
     ]
    }
   ],
   "source": []
  }
 ],
 "metadata": {
  "kernelspec": {
   "display_name": "cuda",
   "language": "python",
   "name": "python3"
  },
  "language_info": {
   "codemirror_mode": {
    "name": "ipython",
    "version": 3
   },
   "file_extension": ".py",
   "mimetype": "text/x-python",
   "name": "python",
   "nbconvert_exporter": "python",
   "pygments_lexer": "ipython3",
   "version": "3.10.9"
  },
  "orig_nbformat": 4,
  "vscode": {
   "interpreter": {
    "hash": "a3c029b62e9af0c14c8d20940fd275a7433002acd075126a9d5c47011a54832f"
   }
  }
 },
 "nbformat": 4,
 "nbformat_minor": 2
}

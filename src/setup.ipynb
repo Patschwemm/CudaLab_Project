{
 "cells": [
  {
   "cell_type": "code",
   "execution_count": 1,
   "metadata": {},
   "outputs": [],
   "source": [
    "import sys\n",
    "import torch\n",
    "import torch.nn as nn\n",
    "import torchvision\n",
    "import torchvision.transforms as T\n",
    "# need ms coco api to get dataset\n",
    "from pycocotools import mask as mask\n",
    "import numpy as np\n",
    "import matplotlib.pyplot as plt\n",
    "sys.path.insert(0, \"../utils\")\n",
    "import utils\n",
    "import train_eval"
   ]
  },
  {
   "cell_type": "code",
   "execution_count": 2,
   "metadata": {},
   "outputs": [],
   "source": [
    "utils.set_random_seed()"
   ]
  },
  {
   "cell_type": "code",
   "execution_count": 3,
   "metadata": {},
   "outputs": [
    {
     "name": "stdout",
     "output_type": "stream",
     "text": [
      "loading annotations into memory...\n",
      "Done (t=14.60s)\n",
      "creating index...\n",
      "index created!\n",
      "loading annotations into memory...\n",
      "Done (t=0.47s)\n",
      "creating index...\n",
      "index created!\n"
     ]
    }
   ],
   "source": [
    "import coco_dataset\n",
    "import importlib\n",
    "importlib.reload(coco_dataset)\n",
    "\n",
    "# path to MS COCO dataset\n",
    "train_data_dir = '/home/nfs/inf6/data/datasets/coco/train2017'\n",
    "val_data_dir = '/home/nfs/inf6/data/datasets/coco/val2017'\n",
    "\n",
    "\n",
    "# initialize COCO API for segmentation\n",
    "train_ann_file = '/home/nfs/inf6/data/datasets/coco/annotations/instances_train2017.json'\n",
    "val_ann_file = '/home/nfs/inf6/data/datasets/coco/annotations/instances_val2017.json'\n",
    "\n",
    "\n",
    "# make dataset, default transforms is resizing and to tensor\n",
    "train_set = coco_dataset.Coco_Dataset(train_data_dir, train_ann_file, mode=\"segmentation\")\n",
    "val_set = coco_dataset.Coco_Dataset(val_data_dir, val_ann_file, mode=\"segmentation\")\n",
    "\n",
    "batch_size = 16\n",
    "train_loader = torch.utils.data.DataLoader(train_set, batch_size=batch_size, shuffle=True)\n",
    "valid_loader = torch.utils.data.DataLoader(val_set, batch_size=batch_size, shuffle=False)"
   ]
  },
  {
   "cell_type": "code",
   "execution_count": 4,
   "metadata": {},
   "outputs": [],
   "source": [
    "# img, seg_mask = train_set[6]\n",
    "\n",
    "# _, ax = plt.subplots(1, 2)\n",
    "\n",
    "# ax[0].imshow(img.permute(1, 2, 0), cmap=\"gray\")\n",
    "# ax[1].imshow(seg_mask.squeeze(), cmap=\"gray\")\n",
    "\n",
    "# _, x = plt.subplots(1, len(masks), figsize=(20,20))\n",
    "# for i in range(len(masks)):\n",
    "#     mask = masks[i]\n",
    "#     idx = mask == 0\n",
    "#     mask[mask == 0] = 100\n",
    "#     x[i].imshow(mask.squeeze(), cmap=\"gray\")\n",
    "\n"
   ]
  },
  {
   "cell_type": "code",
   "execution_count": 16,
   "metadata": {},
   "outputs": [],
   "source": [
    "import UNet_Template\n",
    "import importlib\n",
    "importlib.reload(UNet_Template)\n",
    "\n",
    "config = UNet_Template.RNN_UNetConfig()\n",
    "\n",
    "rnn_unet = UNet_Template.RNN_UNet(config)\n",
    "\n",
    "rnn_unet_optim = torch.optim.Adam(rnn_unet.parameters(), lr=3e-4)\n",
    "\n",
    "criterion = nn.CrossEntropyLoss()"
   ]
  },
  {
   "cell_type": "code",
   "execution_count": 17,
   "metadata": {},
   "outputs": [
    {
     "name": "stdout",
     "output_type": "stream",
     "text": [
      "/home/user/schwemme/CudaLab_Project/src/tboard_logs/RNN_UNet\n"
     ]
    }
   ],
   "source": [
    "importlib.reload(train_eval)\n",
    "\n",
    "epochs=10\n",
    "rnn_unet_trainer = train_eval.Trainer(\n",
    "    rnn_unet, rnn_unet_optim, criterion, train_loader, valid_loader, epochs, sequence=False)"
   ]
  },
  {
   "cell_type": "code",
   "execution_count": 18,
   "metadata": {},
   "outputs": [
    {
     "name": "stdout",
     "output_type": "stream",
     "text": [
      "tensor([ 0.,  1.,  3.,  7.,  8.,  9., 13., 16., 23., 27., 31., 35., 40., 42.,\n",
      "        43., 51., 54., 62., 64., 65., 67., 72., 73., 74., 76., 77., 78., 79.,\n",
      "        82., 84., 85., 86., 88.], device='cuda:0')\n",
      "torch.float32 torch.float32\n",
      "tensor(17452.6250, device='cuda:0')\n",
      "torch.Size([])\n",
      "tensor([ 0.,  1.,  3.,  5.,  6.,  8., 10., 17., 24., 32., 35., 39., 42., 46.,\n",
      "        47., 49., 51., 52., 53., 60., 62., 65., 67., 76.], device='cuda:0')\n",
      "torch.float32 torch.float32\n",
      "tensor(21213.9492, device='cuda:0')\n",
      "torch.Size([])\n",
      "tensor([ 0.,  1.,  2.,  9., 16., 17., 27., 31., 32., 35., 41., 42., 44., 46.,\n",
      "        47., 48., 49., 50., 51., 52., 56., 57., 62., 63., 67., 70., 72., 73.,\n",
      "        75., 76., 81., 87.], device='cuda:0')\n",
      "torch.float32 torch.float32\n",
      "tensor(25107.4102, device='cuda:0')\n",
      "torch.Size([])\n",
      "tensor([ 0.,  1.,  3.,  5.,  6.,  7.,  8., 15., 20., 35., 39., 40., 42., 43.,\n",
      "        44., 50., 51., 52., 53., 55., 70., 81.], device='cuda:0')\n",
      "torch.float32 torch.float32\n",
      "tensor(8592.4062, device='cuda:0')\n",
      "torch.Size([])\n",
      "tensor([ 0.,  1.,  2.,  3.,  4.,  8., 18., 19., 22., 27., 28., 32., 34., 38.,\n",
      "        42., 44., 46., 48., 49., 51., 62., 65., 67., 70., 72., 75., 77., 78.,\n",
      "        79., 81., 82., 85., 86.], device='cuda:0')\n",
      "torch.float32 torch.float32\n",
      "tensor(9447.8252, device='cuda:0')\n",
      "torch.Size([])\n",
      "tensor([ 0.,  1.,  2.,  3.,  4., 10., 11., 20., 28., 34., 41., 44., 47., 48.,\n",
      "        49., 51., 52., 56., 57., 59., 62., 72., 73., 74., 76., 85.],\n",
      "       device='cuda:0')\n",
      "torch.float32 torch.float32\n",
      "tensor(13246.9414, device='cuda:0')\n",
      "torch.Size([])\n",
      "tensor([ 0.,  1.,  2.,  3.,  4.,  8., 10., 11., 13., 16., 17., 27., 32., 33.,\n",
      "        40., 44., 47., 49., 50., 51., 54., 58., 62., 63., 65., 67., 70., 72.,\n",
      "        73., 75., 81., 85.], device='cuda:0')\n",
      "torch.float32 torch.float32\n",
      "tensor(14377.7783, device='cuda:0')\n",
      "torch.Size([])\n",
      "tensor([ 0.,  1.,  2.,  4.,  8., 15., 19., 20., 24., 27., 31., 33., 37., 39.,\n",
      "        40., 41., 43., 47., 48., 49., 52., 59., 62., 67., 72., 73., 77., 88.],\n",
      "       device='cuda:0')\n",
      "torch.float32 torch.float32\n",
      "tensor(14147.2070, device='cuda:0')\n",
      "torch.Size([])\n",
      "tensor([ 0.,  1.,  3.,  5.,  7.,  8., 15., 17., 21., 27., 34., 38., 41., 44.,\n",
      "        47., 51., 53., 61., 62., 63., 64., 65., 67., 72., 73., 75., 77., 78.,\n",
      "        82., 84., 86.], device='cuda:0')\n",
      "torch.float32 torch.float32\n",
      "tensor(14182.7607, device='cuda:0')\n",
      "torch.Size([])\n",
      "tensor([ 0.,  1.,  2.,  3.,  6.,  7.,  8., 10., 11., 13., 15., 16., 17., 19.,\n",
      "        21., 24., 28., 38., 41., 42., 47., 49., 50., 51., 54., 56., 57., 63.,\n",
      "        74., 77., 85.], device='cuda:0')\n",
      "torch.float32 torch.float32\n",
      "tensor(13615.9268, device='cuda:0')\n",
      "torch.Size([])\n",
      "tensor([ 0.,  1.,  3.,  4.,  6., 15., 18., 19., 20., 24., 25., 27., 28., 31.,\n",
      "        32., 34., 42., 46., 47., 48., 49., 50., 52., 53., 59., 62., 67., 72.,\n",
      "        73., 77., 81., 84., 86.], device='cuda:0')\n",
      "torch.float32 torch.float32\n",
      "tensor(7894.1123, device='cuda:0')\n",
      "torch.Size([])\n",
      "tensor([ 0.,  1.,  3.,  4.,  8., 10., 11., 15., 16., 17., 27., 31., 38., 39.,\n",
      "        40., 44., 46., 47., 48., 49., 50., 51., 54., 56., 57., 58., 59., 61.,\n",
      "        62., 63., 67., 86.], device='cuda:0')\n",
      "torch.float32 torch.float32\n",
      "tensor(12490.5977, device='cuda:0')\n",
      "torch.Size([])\n",
      "tensor([ 0.,  1.,  9., 11., 23., 24., 28., 31., 32., 37., 43., 44., 47., 51.,\n",
      "        54., 58., 59., 62., 63., 67., 73., 74., 75., 76., 86., 88.],\n",
      "       device='cuda:0')\n",
      "torch.float32 torch.float32\n",
      "tensor(10406.4883, device='cuda:0')\n",
      "torch.Size([])\n",
      "tensor([ 0.,  1.,  3.,  5.,  6., 10., 15., 17., 18., 19., 20., 22., 25., 27.,\n",
      "        31., 33., 37., 41., 42., 44., 46., 51., 62., 64., 65., 67., 73., 77.,\n",
      "        82., 84.], device='cuda:0')\n"
     ]
    },
    {
     "ename": "KeyboardInterrupt",
     "evalue": "",
     "output_type": "error",
     "traceback": [
      "\u001b[0;31m---------------------------------------------------------------------------\u001b[0m",
      "\u001b[0;31mKeyboardInterrupt\u001b[0m                         Traceback (most recent call last)",
      "Cell \u001b[0;32mIn[18], line 1\u001b[0m\n\u001b[0;32m----> 1\u001b[0m rnn_unet_trainer\u001b[39m.\u001b[39;49mtrain_model()\n",
      "File \u001b[0;32m~/CudaLab_Project/src/../utils/train_eval.py:153\u001b[0m, in \u001b[0;36mTrainer.train_model\u001b[0;34m(self)\u001b[0m\n\u001b[1;32m    149\u001b[0m \u001b[39mfor\u001b[39;00m epoch \u001b[39min\u001b[39;00m \u001b[39mrange\u001b[39m(\u001b[39mself\u001b[39m\u001b[39m.\u001b[39mepochs):\n\u001b[1;32m    150\u001b[0m     \n\u001b[1;32m    151\u001b[0m     \u001b[39m# validation epoch\u001b[39;00m\n\u001b[1;32m    152\u001b[0m     \u001b[39mself\u001b[39m\u001b[39m.\u001b[39mmodel\u001b[39m.\u001b[39meval()  \u001b[39m# important for dropout and batch norms\u001b[39;00m\n\u001b[0;32m--> 153\u001b[0m     accuracy, loss \u001b[39m=\u001b[39m \u001b[39mself\u001b[39;49m\u001b[39m.\u001b[39;49meval_model()\n\u001b[1;32m    154\u001b[0m     \u001b[39mself\u001b[39m\u001b[39m.\u001b[39mvalid_acc\u001b[39m.\u001b[39mappend(accuracy)\n\u001b[1;32m    155\u001b[0m     \u001b[39mself\u001b[39m\u001b[39m.\u001b[39mval_loss\u001b[39m.\u001b[39mappend(loss)\n",
      "File \u001b[0;32m~/miniconda3/envs/cuda/lib/python3.10/site-packages/torch/autograd/grad_mode.py:27\u001b[0m, in \u001b[0;36m_DecoratorContextManager.__call__.<locals>.decorate_context\u001b[0;34m(*args, **kwargs)\u001b[0m\n\u001b[1;32m     24\u001b[0m \u001b[39m@functools\u001b[39m\u001b[39m.\u001b[39mwraps(func)\n\u001b[1;32m     25\u001b[0m \u001b[39mdef\u001b[39;00m \u001b[39mdecorate_context\u001b[39m(\u001b[39m*\u001b[39margs, \u001b[39m*\u001b[39m\u001b[39m*\u001b[39mkwargs):\n\u001b[1;32m     26\u001b[0m     \u001b[39mwith\u001b[39;00m \u001b[39mself\u001b[39m\u001b[39m.\u001b[39mclone():\n\u001b[0;32m---> 27\u001b[0m         \u001b[39mreturn\u001b[39;00m func(\u001b[39m*\u001b[39;49margs, \u001b[39m*\u001b[39;49m\u001b[39m*\u001b[39;49mkwargs)\n",
      "File \u001b[0;32m~/CudaLab_Project/src/../utils/train_eval.py:117\u001b[0m, in \u001b[0;36mTrainer.eval_model\u001b[0;34m(self)\u001b[0m\n\u001b[1;32m    115\u001b[0m     outputs \u001b[39m=\u001b[39m \u001b[39mself\u001b[39m\u001b[39m.\u001b[39mmodel(images)\n\u001b[1;32m    116\u001b[0m \u001b[39melse\u001b[39;00m:\n\u001b[0;32m--> 117\u001b[0m     outputs \u001b[39m=\u001b[39m \u001b[39mself\u001b[39;49m\u001b[39m.\u001b[39;49mmodel(images\u001b[39m.\u001b[39;49munsqueeze(\u001b[39m1\u001b[39;49m))\n\u001b[1;32m    119\u001b[0m \u001b[39mprint\u001b[39m(outputs\u001b[39m.\u001b[39mdtype, labels\u001b[39m.\u001b[39mdtype)\n\u001b[1;32m    120\u001b[0m loss \u001b[39m=\u001b[39m \u001b[39mself\u001b[39m\u001b[39m.\u001b[39mcriterion(outputs\u001b[39m.\u001b[39msqueeze(), labels\u001b[39m.\u001b[39msqueeze())\n",
      "File \u001b[0;32m~/miniconda3/envs/cuda/lib/python3.10/site-packages/torch/nn/modules/module.py:1194\u001b[0m, in \u001b[0;36mModule._call_impl\u001b[0;34m(self, *input, **kwargs)\u001b[0m\n\u001b[1;32m   1190\u001b[0m \u001b[39m# If we don't have any hooks, we want to skip the rest of the logic in\u001b[39;00m\n\u001b[1;32m   1191\u001b[0m \u001b[39m# this function, and just call forward.\u001b[39;00m\n\u001b[1;32m   1192\u001b[0m \u001b[39mif\u001b[39;00m \u001b[39mnot\u001b[39;00m (\u001b[39mself\u001b[39m\u001b[39m.\u001b[39m_backward_hooks \u001b[39mor\u001b[39;00m \u001b[39mself\u001b[39m\u001b[39m.\u001b[39m_forward_hooks \u001b[39mor\u001b[39;00m \u001b[39mself\u001b[39m\u001b[39m.\u001b[39m_forward_pre_hooks \u001b[39mor\u001b[39;00m _global_backward_hooks\n\u001b[1;32m   1193\u001b[0m         \u001b[39mor\u001b[39;00m _global_forward_hooks \u001b[39mor\u001b[39;00m _global_forward_pre_hooks):\n\u001b[0;32m-> 1194\u001b[0m     \u001b[39mreturn\u001b[39;00m forward_call(\u001b[39m*\u001b[39;49m\u001b[39minput\u001b[39;49m, \u001b[39m*\u001b[39;49m\u001b[39m*\u001b[39;49mkwargs)\n\u001b[1;32m   1195\u001b[0m \u001b[39m# Do not call functions when jit is used\u001b[39;00m\n\u001b[1;32m   1196\u001b[0m full_backward_hooks, non_full_backward_hooks \u001b[39m=\u001b[39m [], []\n",
      "File \u001b[0;32m~/CudaLab_Project/src/UNet_Template.py:135\u001b[0m, in \u001b[0;36mRNN_UNet.forward\u001b[0;34m(self, x)\u001b[0m\n\u001b[1;32m    133\u001b[0m \u001b[39m# x is Batch x Sequence x Channel x Height x Width\u001b[39;00m\n\u001b[1;32m    134\u001b[0m \u001b[39mfor\u001b[39;00m i \u001b[39min\u001b[39;00m \u001b[39mrange\u001b[39m(x\u001b[39m.\u001b[39mshape[\u001b[39m1\u001b[39m]):\n\u001b[0;32m--> 135\u001b[0m     out, hidden_states, rnn_states \u001b[39m=\u001b[39m \u001b[39mself\u001b[39;49m\u001b[39m.\u001b[39;49mencoder(x[:, i])\n\u001b[1;32m    136\u001b[0m     out \u001b[39m=\u001b[39m \u001b[39mself\u001b[39m\u001b[39m.\u001b[39mdecoder(out, rnn_states)\n\u001b[1;32m    137\u001b[0m     outputs\u001b[39m.\u001b[39mappend(out)\n",
      "File \u001b[0;32m~/miniconda3/envs/cuda/lib/python3.10/site-packages/torch/nn/modules/module.py:1194\u001b[0m, in \u001b[0;36mModule._call_impl\u001b[0;34m(self, *input, **kwargs)\u001b[0m\n\u001b[1;32m   1190\u001b[0m \u001b[39m# If we don't have any hooks, we want to skip the rest of the logic in\u001b[39;00m\n\u001b[1;32m   1191\u001b[0m \u001b[39m# this function, and just call forward.\u001b[39;00m\n\u001b[1;32m   1192\u001b[0m \u001b[39mif\u001b[39;00m \u001b[39mnot\u001b[39;00m (\u001b[39mself\u001b[39m\u001b[39m.\u001b[39m_backward_hooks \u001b[39mor\u001b[39;00m \u001b[39mself\u001b[39m\u001b[39m.\u001b[39m_forward_hooks \u001b[39mor\u001b[39;00m \u001b[39mself\u001b[39m\u001b[39m.\u001b[39m_forward_pre_hooks \u001b[39mor\u001b[39;00m _global_backward_hooks\n\u001b[1;32m   1193\u001b[0m         \u001b[39mor\u001b[39;00m _global_forward_hooks \u001b[39mor\u001b[39;00m _global_forward_pre_hooks):\n\u001b[0;32m-> 1194\u001b[0m     \u001b[39mreturn\u001b[39;00m forward_call(\u001b[39m*\u001b[39;49m\u001b[39minput\u001b[39;49m, \u001b[39m*\u001b[39;49m\u001b[39m*\u001b[39;49mkwargs)\n\u001b[1;32m   1195\u001b[0m \u001b[39m# Do not call functions when jit is used\u001b[39;00m\n\u001b[1;32m   1196\u001b[0m full_backward_hooks, non_full_backward_hooks \u001b[39m=\u001b[39m [], []\n",
      "File \u001b[0;32m~/CudaLab_Project/src/UNet_Template.py:56\u001b[0m, in \u001b[0;36mRNN_UNetEncoder.forward\u001b[0;34m(self, x)\u001b[0m\n\u001b[1;32m     52\u001b[0m rnn_states \u001b[39m=\u001b[39m []\n\u001b[1;32m     53\u001b[0m \u001b[39mfor\u001b[39;00m block, c_rnn \u001b[39min\u001b[39;00m \u001b[39mzip\u001b[39m(\u001b[39mself\u001b[39m\u001b[39m.\u001b[39mdownsample_blocks, \u001b[39mself\u001b[39m\u001b[39m.\u001b[39mconv_rnn[:\u001b[39m-\u001b[39m\u001b[39m1\u001b[39m]):\n\u001b[1;32m     54\u001b[0m     \u001b[39m# hidden_states.append(x)\u001b[39;00m\n\u001b[1;32m     55\u001b[0m     \u001b[39m# pass through RNN \u001b[39;00m\n\u001b[0;32m---> 56\u001b[0m     rnn_states\u001b[39m.\u001b[39mappend(c_rnn(x))\n\u001b[1;32m     57\u001b[0m     x \u001b[39m=\u001b[39m block(x)\n\u001b[1;32m     58\u001b[0m     \u001b[39m# append rnn states for concatenation\u001b[39;00m\n\u001b[1;32m     59\u001b[0m \n\u001b[1;32m     60\u001b[0m \u001b[39m# pass through the last conv rnn state\u001b[39;00m\n",
      "File \u001b[0;32m~/miniconda3/envs/cuda/lib/python3.10/site-packages/torch/nn/modules/module.py:1194\u001b[0m, in \u001b[0;36mModule._call_impl\u001b[0;34m(self, *input, **kwargs)\u001b[0m\n\u001b[1;32m   1190\u001b[0m \u001b[39m# If we don't have any hooks, we want to skip the rest of the logic in\u001b[39;00m\n\u001b[1;32m   1191\u001b[0m \u001b[39m# this function, and just call forward.\u001b[39;00m\n\u001b[1;32m   1192\u001b[0m \u001b[39mif\u001b[39;00m \u001b[39mnot\u001b[39;00m (\u001b[39mself\u001b[39m\u001b[39m.\u001b[39m_backward_hooks \u001b[39mor\u001b[39;00m \u001b[39mself\u001b[39m\u001b[39m.\u001b[39m_forward_hooks \u001b[39mor\u001b[39;00m \u001b[39mself\u001b[39m\u001b[39m.\u001b[39m_forward_pre_hooks \u001b[39mor\u001b[39;00m _global_backward_hooks\n\u001b[1;32m   1193\u001b[0m         \u001b[39mor\u001b[39;00m _global_forward_hooks \u001b[39mor\u001b[39;00m _global_forward_pre_hooks):\n\u001b[0;32m-> 1194\u001b[0m     \u001b[39mreturn\u001b[39;00m forward_call(\u001b[39m*\u001b[39;49m\u001b[39minput\u001b[39;49m, \u001b[39m*\u001b[39;49m\u001b[39m*\u001b[39;49mkwargs)\n\u001b[1;32m   1195\u001b[0m \u001b[39m# Do not call functions when jit is used\u001b[39;00m\n\u001b[1;32m   1196\u001b[0m full_backward_hooks, non_full_backward_hooks \u001b[39m=\u001b[39m [], []\n",
      "File \u001b[0;32m~/CudaLab_Project/src/temporal_modules.py:27\u001b[0m, in \u001b[0;36mConv2dRNNCell.forward\u001b[0;34m(self, x)\u001b[0m\n\u001b[1;32m     22\u001b[0m \u001b[39mdef\u001b[39;00m \u001b[39mforward\u001b[39m(\u001b[39mself\u001b[39m, x):\n\u001b[1;32m     23\u001b[0m     \u001b[39m# x: input sequence, shape (batch_size, input_size, sequence_length)\u001b[39;00m\n\u001b[1;32m     24\u001b[0m     \u001b[39m# h: hidden state, shape (batch_size, hidden_size, sequence_length)\u001b[39;00m\n\u001b[1;32m     26\u001b[0m     \u001b[39mif\u001b[39;00m \u001b[39mself\u001b[39m\u001b[39m.\u001b[39mh_init \u001b[39m==\u001b[39m \u001b[39mFalse\u001b[39;00m:\n\u001b[0;32m---> 27\u001b[0m         \u001b[39mself\u001b[39m\u001b[39m.\u001b[39mh \u001b[39m=\u001b[39m torch\u001b[39m.\u001b[39;49mrandn(x\u001b[39m.\u001b[39;49mshape[\u001b[39m0\u001b[39;49m], \u001b[39mself\u001b[39;49m\u001b[39m.\u001b[39;49mconv_hh\u001b[39m.\u001b[39;49mout_channels, x\u001b[39m.\u001b[39;49mshape[\u001b[39m2\u001b[39;49m], x\u001b[39m.\u001b[39;49mshape[\u001b[39m3\u001b[39;49m])\n\u001b[1;32m     28\u001b[0m         \u001b[39mself\u001b[39m\u001b[39m.\u001b[39mh \u001b[39m=\u001b[39m \u001b[39mself\u001b[39m\u001b[39m.\u001b[39mh\u001b[39m.\u001b[39mto(x\u001b[39m.\u001b[39mdevice)\n\u001b[1;32m     30\u001b[0m     \u001b[39m# Compute the convolutional output\u001b[39;00m\n",
      "\u001b[0;31mKeyboardInterrupt\u001b[0m: "
     ]
    }
   ],
   "source": [
    "rnn_unet_trainer.train_model()"
   ]
  },
  {
   "cell_type": "code",
   "execution_count": null,
   "metadata": {},
   "outputs": [],
   "source": [
    "city_home = \"/home/nfs/inf6/data/datasets/cityscapes\"\n",
    "\n",
    "cityscapes_train = torchvision.datasets.Cityscapes(root=city_home, split=\"train\", mode=\"coarse\", target_type=\"semantic\")\n",
    "cityscapes_test = torchvision.datasets.Cityscapes(root=city_home, split=\"train_extra\", mode=\"coarse\", target_type=\"semantic\")\n",
    "cityscapes_valid = torchvision.datasets.Cityscapes(root=city_home, split=\"val\", mode=\"coarse\", target_type=\"semantic\")\n"
   ]
  },
  {
   "cell_type": "code",
   "execution_count": 14,
   "metadata": {},
   "outputs": [
    {
     "name": "stdout",
     "output_type": "stream",
     "text": [
      "uint8\n",
      "<class 'numpy.ndarray'>\n"
     ]
    },
    {
     "ename": "TypeError",
     "evalue": "Unexpected type <class 'numpy.ndarray'>",
     "output_type": "error",
     "traceback": [
      "\u001b[0;31m---------------------------------------------------------------------------\u001b[0m",
      "\u001b[0;31mTypeError\u001b[0m                                 Traceback (most recent call last)",
      "Cell \u001b[0;32mIn[14], line 1\u001b[0m\n\u001b[0;32m----> 1\u001b[0m img, label_dict \u001b[39m=\u001b[39m train_set[\u001b[39m6\u001b[39;49m]\n\u001b[1;32m      2\u001b[0m masks \u001b[39m=\u001b[39m label_dict[\u001b[39m\"\u001b[39m\u001b[39mmasks\u001b[39m\u001b[39m\"\u001b[39m]\n\u001b[1;32m      3\u001b[0m labels \u001b[39m=\u001b[39m label_dict[\u001b[39m\"\u001b[39m\u001b[39mlabels\u001b[39m\u001b[39m\"\u001b[39m]\n",
      "File \u001b[0;32m~/CudaLab_Project/src/coco_dataset.py:47\u001b[0m, in \u001b[0;36mCoco_Dataset.__getitem__\u001b[0;34m(self, index)\u001b[0m\n\u001b[1;32m     45\u001b[0m     \u001b[39mprint\u001b[39m(mask\u001b[39m.\u001b[39mdtype)\n\u001b[1;32m     46\u001b[0m     \u001b[39mprint\u001b[39m(\u001b[39mtype\u001b[39m(mask))\n\u001b[0;32m---> 47\u001b[0m     mask \u001b[39m=\u001b[39m \u001b[39mself\u001b[39;49m\u001b[39m.\u001b[39;49mtarget_transforms(mask)\n\u001b[1;32m     48\u001b[0m masks\u001b[39m.\u001b[39mappend(mask)\n\u001b[1;32m     49\u001b[0m labels\u001b[39m.\u001b[39mappend(coco_annotation[i][\u001b[39m'\u001b[39m\u001b[39mcategory_id\u001b[39m\u001b[39m'\u001b[39m])\n",
      "File \u001b[0;32m~/miniconda3/envs/cuda/lib/python3.10/site-packages/torchvision/transforms/transforms.py:95\u001b[0m, in \u001b[0;36mCompose.__call__\u001b[0;34m(self, img)\u001b[0m\n\u001b[1;32m     93\u001b[0m \u001b[39mdef\u001b[39;00m \u001b[39m__call__\u001b[39m(\u001b[39mself\u001b[39m, img):\n\u001b[1;32m     94\u001b[0m     \u001b[39mfor\u001b[39;00m t \u001b[39min\u001b[39;00m \u001b[39mself\u001b[39m\u001b[39m.\u001b[39mtransforms:\n\u001b[0;32m---> 95\u001b[0m         img \u001b[39m=\u001b[39m t(img)\n\u001b[1;32m     96\u001b[0m     \u001b[39mreturn\u001b[39;00m img\n",
      "File \u001b[0;32m~/miniconda3/envs/cuda/lib/python3.10/site-packages/torch/nn/modules/module.py:1194\u001b[0m, in \u001b[0;36mModule._call_impl\u001b[0;34m(self, *input, **kwargs)\u001b[0m\n\u001b[1;32m   1190\u001b[0m \u001b[39m# If we don't have any hooks, we want to skip the rest of the logic in\u001b[39;00m\n\u001b[1;32m   1191\u001b[0m \u001b[39m# this function, and just call forward.\u001b[39;00m\n\u001b[1;32m   1192\u001b[0m \u001b[39mif\u001b[39;00m \u001b[39mnot\u001b[39;00m (\u001b[39mself\u001b[39m\u001b[39m.\u001b[39m_backward_hooks \u001b[39mor\u001b[39;00m \u001b[39mself\u001b[39m\u001b[39m.\u001b[39m_forward_hooks \u001b[39mor\u001b[39;00m \u001b[39mself\u001b[39m\u001b[39m.\u001b[39m_forward_pre_hooks \u001b[39mor\u001b[39;00m _global_backward_hooks\n\u001b[1;32m   1193\u001b[0m         \u001b[39mor\u001b[39;00m _global_forward_hooks \u001b[39mor\u001b[39;00m _global_forward_pre_hooks):\n\u001b[0;32m-> 1194\u001b[0m     \u001b[39mreturn\u001b[39;00m forward_call(\u001b[39m*\u001b[39;49m\u001b[39minput\u001b[39;49m, \u001b[39m*\u001b[39;49m\u001b[39m*\u001b[39;49mkwargs)\n\u001b[1;32m   1195\u001b[0m \u001b[39m# Do not call functions when jit is used\u001b[39;00m\n\u001b[1;32m   1196\u001b[0m full_backward_hooks, non_full_backward_hooks \u001b[39m=\u001b[39m [], []\n",
      "File \u001b[0;32m~/miniconda3/envs/cuda/lib/python3.10/site-packages/torchvision/transforms/transforms.py:346\u001b[0m, in \u001b[0;36mResize.forward\u001b[0;34m(self, img)\u001b[0m\n\u001b[1;32m    338\u001b[0m \u001b[39mdef\u001b[39;00m \u001b[39mforward\u001b[39m(\u001b[39mself\u001b[39m, img):\n\u001b[1;32m    339\u001b[0m \u001b[39m    \u001b[39m\u001b[39m\"\"\"\u001b[39;00m\n\u001b[1;32m    340\u001b[0m \u001b[39m    Args:\u001b[39;00m\n\u001b[1;32m    341\u001b[0m \u001b[39m        img (PIL Image or Tensor): Image to be scaled.\u001b[39;00m\n\u001b[0;32m   (...)\u001b[0m\n\u001b[1;32m    344\u001b[0m \u001b[39m        PIL Image or Tensor: Rescaled image.\u001b[39;00m\n\u001b[1;32m    345\u001b[0m \u001b[39m    \"\"\"\u001b[39;00m\n\u001b[0;32m--> 346\u001b[0m     \u001b[39mreturn\u001b[39;00m F\u001b[39m.\u001b[39;49mresize(img, \u001b[39mself\u001b[39;49m\u001b[39m.\u001b[39;49msize, \u001b[39mself\u001b[39;49m\u001b[39m.\u001b[39;49minterpolation, \u001b[39mself\u001b[39;49m\u001b[39m.\u001b[39;49mmax_size, \u001b[39mself\u001b[39;49m\u001b[39m.\u001b[39;49mantialias)\n",
      "File \u001b[0;32m~/miniconda3/envs/cuda/lib/python3.10/site-packages/torchvision/transforms/functional.py:462\u001b[0m, in \u001b[0;36mresize\u001b[0;34m(img, size, interpolation, max_size, antialias)\u001b[0m\n\u001b[1;32m    456\u001b[0m     \u001b[39mif\u001b[39;00m max_size \u001b[39mis\u001b[39;00m \u001b[39mnot\u001b[39;00m \u001b[39mNone\u001b[39;00m \u001b[39mand\u001b[39;00m \u001b[39mlen\u001b[39m(size) \u001b[39m!=\u001b[39m \u001b[39m1\u001b[39m:\n\u001b[1;32m    457\u001b[0m         \u001b[39mraise\u001b[39;00m \u001b[39mValueError\u001b[39;00m(\n\u001b[1;32m    458\u001b[0m             \u001b[39m\"\u001b[39m\u001b[39mmax_size should only be passed if size specifies the length of the smaller edge, \u001b[39m\u001b[39m\"\u001b[39m\n\u001b[1;32m    459\u001b[0m             \u001b[39m\"\u001b[39m\u001b[39mi.e. size should be an int or a sequence of length 1 in torchscript mode.\u001b[39m\u001b[39m\"\u001b[39m\n\u001b[1;32m    460\u001b[0m         )\n\u001b[0;32m--> 462\u001b[0m _, image_height, image_width \u001b[39m=\u001b[39m get_dimensions(img)\n\u001b[1;32m    463\u001b[0m \u001b[39mif\u001b[39;00m \u001b[39misinstance\u001b[39m(size, \u001b[39mint\u001b[39m):\n\u001b[1;32m    464\u001b[0m     size \u001b[39m=\u001b[39m [size]\n",
      "File \u001b[0;32m~/miniconda3/envs/cuda/lib/python3.10/site-packages/torchvision/transforms/functional.py:75\u001b[0m, in \u001b[0;36mget_dimensions\u001b[0;34m(img)\u001b[0m\n\u001b[1;32m     72\u001b[0m \u001b[39mif\u001b[39;00m \u001b[39misinstance\u001b[39m(img, torch\u001b[39m.\u001b[39mTensor):\n\u001b[1;32m     73\u001b[0m     \u001b[39mreturn\u001b[39;00m F_t\u001b[39m.\u001b[39mget_dimensions(img)\n\u001b[0;32m---> 75\u001b[0m \u001b[39mreturn\u001b[39;00m F_pil\u001b[39m.\u001b[39;49mget_dimensions(img)\n",
      "File \u001b[0;32m~/miniconda3/envs/cuda/lib/python3.10/site-packages/torchvision/transforms/functional_pil.py:33\u001b[0m, in \u001b[0;36mget_dimensions\u001b[0;34m(img)\u001b[0m\n\u001b[1;32m     31\u001b[0m     width, height \u001b[39m=\u001b[39m img\u001b[39m.\u001b[39msize\n\u001b[1;32m     32\u001b[0m     \u001b[39mreturn\u001b[39;00m [channels, height, width]\n\u001b[0;32m---> 33\u001b[0m \u001b[39mraise\u001b[39;00m \u001b[39mTypeError\u001b[39;00m(\u001b[39mf\u001b[39m\u001b[39m\"\u001b[39m\u001b[39mUnexpected type \u001b[39m\u001b[39m{\u001b[39;00m\u001b[39mtype\u001b[39m(img)\u001b[39m}\u001b[39;00m\u001b[39m\"\u001b[39m)\n",
      "\u001b[0;31mTypeError\u001b[0m: Unexpected type <class 'numpy.ndarray'>"
     ]
    }
   ],
   "source": [
    "img, label_dict = train_set[6]\n",
    "masks = label_dict[\"masks\"]\n",
    "labels = label_dict[\"labels\"]\n",
    "seg_mask = label_dict[\"segmentation_mask\"]\n",
    "\n",
    "_, ax = plt.subplots(1, 2)\n",
    "\n",
    "ax[0].imshow(img.permute(1, 2, 0), cmap=\"gray\")\n",
    "ax[1].imshow(seg_mask.squeeze(), cmap=\"gray\")\n",
    "\n",
    "_, x = plt.subplots(1, len(masks), figsize=(20,20))\n",
    "for i in range(len(masks)):\n",
    "    mask = masks[i]\n",
    "    idx = mask == 0\n",
    "    mask[mask == 0] = 100\n",
    "    x[i].imshow(mask, cmap=\"gray\")\n",
    "\n"
   ]
  }
 ],
 "metadata": {
  "kernelspec": {
   "display_name": "Python 3 (ipykernel)",
   "language": "python",
   "name": "python3"
  },
  "language_info": {
   "codemirror_mode": {
    "name": "ipython",
    "version": 3
   },
   "file_extension": ".py",
   "mimetype": "text/x-python",
   "name": "python",
   "nbconvert_exporter": "python",
   "pygments_lexer": "ipython3",
   "version": "3.10.9"
  },
  "vscode": {
   "interpreter": {
    "hash": "a3c029b62e9af0c14c8d20940fd275a7433002acd075126a9d5c47011a54832f"
   }
  }
 },
 "nbformat": 4,
 "nbformat_minor": 2
}
